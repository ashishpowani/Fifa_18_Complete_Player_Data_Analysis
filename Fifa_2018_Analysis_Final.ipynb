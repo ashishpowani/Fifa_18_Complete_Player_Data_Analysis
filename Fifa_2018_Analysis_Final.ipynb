{
 "cells": [
  {
   "cell_type": "markdown",
   "metadata": {},
   "source": [
    "# Fifa18 Complete Player Data Analysis"
   ]
  },
  {
   "cell_type": "markdown",
   "metadata": {},
   "source": [
    "### Table of Contents:"
   ]
  },
  {
   "cell_type": "raw",
   "metadata": {},
   "source": [
    "• Data Preprocessing\n",
    "• Exploratory Data Analysis\n",
    "   1)\tHow does the avg. overall ratings, avg. growth ratings and avg. potential ratings trend for all ages?  \n",
    "   2)\tFrequency distribution of players on their overall rating\n",
    "   3)\tClubs with most players having an overall rating more than 85\n",
    "   4)\tDoes overall and potential ratings have an influence on wage and value of the player?\n",
    "   5)\tDetermining the average age of players in each club\n",
    "   6)\tView stats of your favorite club\n",
    "   7)\tWhich teams pays the highest wages to its players?\n",
    "   8)\tPlayers that get the highest wages\n",
    "   9)\tWhich countries have the most number of players?\n",
    "   10)\tTeams that are most powerful (based on overall and potential rating)\n",
    "   11)\tTop players based on Overall rating\n",
    "   12)\tDoes age have an influence in Overall rating?\n",
    "   13)\tDoes age have an influence in Potential or Growth rating?\n",
    "   14)\tDistribution of preferred positions?\n",
    "• Data normalization   \n",
    "• Build a predective model to predict target variable (attack vs defend positions) with logistic regression\n",
    "• Build a predective model to predict target variable (attack vs defend positions) with Random Forest\n",
    "• Build a predictive model to predict target variable (attack vs defend positions) with Neural Network\n",
    "• Conclusion\n",
    "• Future Scope"
   ]
  },
  {
   "cell_type": "markdown",
   "metadata": {},
   "source": [
    "### Fifa18 Complete Player Data Analysis"
   ]
  },
  {
   "cell_type": "code",
   "execution_count": 1074,
   "metadata": {
    "collapsed": true
   },
   "outputs": [],
   "source": [
    "# Import the libraries\n",
    "import pandas as pd\n",
    "import numpy as np\n",
    "import matplotlib.pyplot as plt\n",
    "import seaborn as sns\n",
    "from sklearn import linear_model\n",
    "from sklearn.model_selection import train_test_split\n",
    "from sklearn.linear_model import LogisticRegression\n",
    "from sklearn.dummy import DummyClassifier\n",
    "from sklearn.metrics import mean_squared_error, r2_score\n",
    "from sklearn.ensemble import RandomForestClassifier\n",
    "from sklearn.neural_network import MLPClassifier"
   ]
  },
  {
   "cell_type": "code",
   "execution_count": 1075,
   "metadata": {
    "collapsed": false
   },
   "outputs": [],
   "source": [
    "#read the data\n",
    "df = pd.read_csv(\"/Users/ashishpowani/Downloads/FIfa_Data_Analysis/fifa-18-demo-player-dataset/CompleteDataset.csv\", low_memory=False)"
   ]
  },
  {
   "cell_type": "code",
   "execution_count": 1076,
   "metadata": {
    "collapsed": false
   },
   "outputs": [
    {
     "data": {
      "text/html": [
       "<div>\n",
       "<table border=\"1\" class=\"dataframe\">\n",
       "  <thead>\n",
       "    <tr style=\"text-align: right;\">\n",
       "      <th></th>\n",
       "      <th>Unnamed: 0</th>\n",
       "      <th>Name</th>\n",
       "      <th>Age</th>\n",
       "      <th>Photo</th>\n",
       "      <th>Nationality</th>\n",
       "      <th>Flag</th>\n",
       "      <th>Overall</th>\n",
       "      <th>Potential</th>\n",
       "      <th>Club</th>\n",
       "      <th>Club Logo</th>\n",
       "      <th>...</th>\n",
       "      <th>RB</th>\n",
       "      <th>RCB</th>\n",
       "      <th>RCM</th>\n",
       "      <th>RDM</th>\n",
       "      <th>RF</th>\n",
       "      <th>RM</th>\n",
       "      <th>RS</th>\n",
       "      <th>RW</th>\n",
       "      <th>RWB</th>\n",
       "      <th>ST</th>\n",
       "    </tr>\n",
       "  </thead>\n",
       "  <tbody>\n",
       "    <tr>\n",
       "      <th>0</th>\n",
       "      <td>0</td>\n",
       "      <td>Cristiano Ronaldo</td>\n",
       "      <td>32</td>\n",
       "      <td>https://cdn.sofifa.org/48/18/players/20801.png</td>\n",
       "      <td>Portugal</td>\n",
       "      <td>https://cdn.sofifa.org/flags/38.png</td>\n",
       "      <td>94</td>\n",
       "      <td>94</td>\n",
       "      <td>Real Madrid CF</td>\n",
       "      <td>https://cdn.sofifa.org/24/18/teams/243.png</td>\n",
       "      <td>...</td>\n",
       "      <td>61.0</td>\n",
       "      <td>53.0</td>\n",
       "      <td>82.0</td>\n",
       "      <td>62.0</td>\n",
       "      <td>91.0</td>\n",
       "      <td>89.0</td>\n",
       "      <td>92.0</td>\n",
       "      <td>91.0</td>\n",
       "      <td>66.0</td>\n",
       "      <td>92.0</td>\n",
       "    </tr>\n",
       "    <tr>\n",
       "      <th>1</th>\n",
       "      <td>1</td>\n",
       "      <td>L. Messi</td>\n",
       "      <td>30</td>\n",
       "      <td>https://cdn.sofifa.org/48/18/players/158023.png</td>\n",
       "      <td>Argentina</td>\n",
       "      <td>https://cdn.sofifa.org/flags/52.png</td>\n",
       "      <td>93</td>\n",
       "      <td>93</td>\n",
       "      <td>FC Barcelona</td>\n",
       "      <td>https://cdn.sofifa.org/24/18/teams/241.png</td>\n",
       "      <td>...</td>\n",
       "      <td>57.0</td>\n",
       "      <td>45.0</td>\n",
       "      <td>84.0</td>\n",
       "      <td>59.0</td>\n",
       "      <td>92.0</td>\n",
       "      <td>90.0</td>\n",
       "      <td>88.0</td>\n",
       "      <td>91.0</td>\n",
       "      <td>62.0</td>\n",
       "      <td>88.0</td>\n",
       "    </tr>\n",
       "    <tr>\n",
       "      <th>2</th>\n",
       "      <td>2</td>\n",
       "      <td>Neymar</td>\n",
       "      <td>25</td>\n",
       "      <td>https://cdn.sofifa.org/48/18/players/190871.png</td>\n",
       "      <td>Brazil</td>\n",
       "      <td>https://cdn.sofifa.org/flags/54.png</td>\n",
       "      <td>92</td>\n",
       "      <td>94</td>\n",
       "      <td>Paris Saint-Germain</td>\n",
       "      <td>https://cdn.sofifa.org/24/18/teams/73.png</td>\n",
       "      <td>...</td>\n",
       "      <td>59.0</td>\n",
       "      <td>46.0</td>\n",
       "      <td>79.0</td>\n",
       "      <td>59.0</td>\n",
       "      <td>88.0</td>\n",
       "      <td>87.0</td>\n",
       "      <td>84.0</td>\n",
       "      <td>89.0</td>\n",
       "      <td>64.0</td>\n",
       "      <td>84.0</td>\n",
       "    </tr>\n",
       "    <tr>\n",
       "      <th>3</th>\n",
       "      <td>3</td>\n",
       "      <td>L. Suárez</td>\n",
       "      <td>30</td>\n",
       "      <td>https://cdn.sofifa.org/48/18/players/176580.png</td>\n",
       "      <td>Uruguay</td>\n",
       "      <td>https://cdn.sofifa.org/flags/60.png</td>\n",
       "      <td>92</td>\n",
       "      <td>92</td>\n",
       "      <td>FC Barcelona</td>\n",
       "      <td>https://cdn.sofifa.org/24/18/teams/241.png</td>\n",
       "      <td>...</td>\n",
       "      <td>64.0</td>\n",
       "      <td>58.0</td>\n",
       "      <td>80.0</td>\n",
       "      <td>65.0</td>\n",
       "      <td>88.0</td>\n",
       "      <td>85.0</td>\n",
       "      <td>88.0</td>\n",
       "      <td>87.0</td>\n",
       "      <td>68.0</td>\n",
       "      <td>88.0</td>\n",
       "    </tr>\n",
       "    <tr>\n",
       "      <th>4</th>\n",
       "      <td>4</td>\n",
       "      <td>M. Neuer</td>\n",
       "      <td>31</td>\n",
       "      <td>https://cdn.sofifa.org/48/18/players/167495.png</td>\n",
       "      <td>Germany</td>\n",
       "      <td>https://cdn.sofifa.org/flags/21.png</td>\n",
       "      <td>92</td>\n",
       "      <td>92</td>\n",
       "      <td>FC Bayern Munich</td>\n",
       "      <td>https://cdn.sofifa.org/24/18/teams/21.png</td>\n",
       "      <td>...</td>\n",
       "      <td>NaN</td>\n",
       "      <td>NaN</td>\n",
       "      <td>NaN</td>\n",
       "      <td>NaN</td>\n",
       "      <td>NaN</td>\n",
       "      <td>NaN</td>\n",
       "      <td>NaN</td>\n",
       "      <td>NaN</td>\n",
       "      <td>NaN</td>\n",
       "      <td>NaN</td>\n",
       "    </tr>\n",
       "  </tbody>\n",
       "</table>\n",
       "<p>5 rows × 75 columns</p>\n",
       "</div>"
      ],
      "text/plain": [
       "   Unnamed: 0               Name  Age  \\\n",
       "0           0  Cristiano Ronaldo   32   \n",
       "1           1           L. Messi   30   \n",
       "2           2             Neymar   25   \n",
       "3           3          L. Suárez   30   \n",
       "4           4           M. Neuer   31   \n",
       "\n",
       "                                             Photo Nationality  \\\n",
       "0   https://cdn.sofifa.org/48/18/players/20801.png    Portugal   \n",
       "1  https://cdn.sofifa.org/48/18/players/158023.png   Argentina   \n",
       "2  https://cdn.sofifa.org/48/18/players/190871.png      Brazil   \n",
       "3  https://cdn.sofifa.org/48/18/players/176580.png     Uruguay   \n",
       "4  https://cdn.sofifa.org/48/18/players/167495.png     Germany   \n",
       "\n",
       "                                  Flag  Overall  Potential  \\\n",
       "0  https://cdn.sofifa.org/flags/38.png       94         94   \n",
       "1  https://cdn.sofifa.org/flags/52.png       93         93   \n",
       "2  https://cdn.sofifa.org/flags/54.png       92         94   \n",
       "3  https://cdn.sofifa.org/flags/60.png       92         92   \n",
       "4  https://cdn.sofifa.org/flags/21.png       92         92   \n",
       "\n",
       "                  Club                                   Club Logo  ...   \\\n",
       "0       Real Madrid CF  https://cdn.sofifa.org/24/18/teams/243.png  ...    \n",
       "1         FC Barcelona  https://cdn.sofifa.org/24/18/teams/241.png  ...    \n",
       "2  Paris Saint-Germain   https://cdn.sofifa.org/24/18/teams/73.png  ...    \n",
       "3         FC Barcelona  https://cdn.sofifa.org/24/18/teams/241.png  ...    \n",
       "4     FC Bayern Munich   https://cdn.sofifa.org/24/18/teams/21.png  ...    \n",
       "\n",
       "     RB   RCB   RCM   RDM    RF    RM    RS    RW   RWB    ST  \n",
       "0  61.0  53.0  82.0  62.0  91.0  89.0  92.0  91.0  66.0  92.0  \n",
       "1  57.0  45.0  84.0  59.0  92.0  90.0  88.0  91.0  62.0  88.0  \n",
       "2  59.0  46.0  79.0  59.0  88.0  87.0  84.0  89.0  64.0  84.0  \n",
       "3  64.0  58.0  80.0  65.0  88.0  85.0  88.0  87.0  68.0  88.0  \n",
       "4   NaN   NaN   NaN   NaN   NaN   NaN   NaN   NaN   NaN   NaN  \n",
       "\n",
       "[5 rows x 75 columns]"
      ]
     },
     "execution_count": 1076,
     "metadata": {},
     "output_type": "execute_result"
    }
   ],
   "source": [
    "df.head()"
   ]
  },
  {
   "cell_type": "code",
   "execution_count": 1077,
   "metadata": {
    "collapsed": false
   },
   "outputs": [
    {
     "data": {
      "text/plain": [
       "(17981, 75)"
      ]
     },
     "execution_count": 1077,
     "metadata": {},
     "output_type": "execute_result"
    }
   ],
   "source": [
    "df.shape"
   ]
  },
  {
   "cell_type": "code",
   "execution_count": 1078,
   "metadata": {
    "collapsed": true
   },
   "outputs": [
    {
     "data": {
      "text/plain": [
       "Unnamed: 0               int64\n",
       "Name                    object\n",
       "Age                      int64\n",
       "Photo                   object\n",
       "Nationality             object\n",
       "Flag                    object\n",
       "Overall                  int64\n",
       "Potential                int64\n",
       "Club                    object\n",
       "Club Logo               object\n",
       "Value                   object\n",
       "Wage                    object\n",
       "Special                  int64\n",
       "Acceleration            object\n",
       "Aggression              object\n",
       "Agility                 object\n",
       "Balance                 object\n",
       "Ball control            object\n",
       "Composure               object\n",
       "Crossing                object\n",
       "Curve                   object\n",
       "Dribbling               object\n",
       "Finishing               object\n",
       "Free kick accuracy      object\n",
       "GK diving               object\n",
       "GK handling             object\n",
       "GK kicking              object\n",
       "GK positioning          object\n",
       "GK reflexes             object\n",
       "Heading accuracy        object\n",
       "                        ...   \n",
       "Vision                  object\n",
       "Volleys                 object\n",
       "CAM                    float64\n",
       "CB                     float64\n",
       "CDM                    float64\n",
       "CF                     float64\n",
       "CM                     float64\n",
       "ID                       int64\n",
       "LAM                    float64\n",
       "LB                     float64\n",
       "LCB                    float64\n",
       "LCM                    float64\n",
       "LDM                    float64\n",
       "LF                     float64\n",
       "LM                     float64\n",
       "LS                     float64\n",
       "LW                     float64\n",
       "LWB                    float64\n",
       "Preferred Positions     object\n",
       "RAM                    float64\n",
       "RB                     float64\n",
       "RCB                    float64\n",
       "RCM                    float64\n",
       "RDM                    float64\n",
       "RF                     float64\n",
       "RM                     float64\n",
       "RS                     float64\n",
       "RW                     float64\n",
       "RWB                    float64\n",
       "ST                     float64\n",
       "dtype: object"
      ]
     },
     "execution_count": 1078,
     "metadata": {},
     "output_type": "execute_result"
    }
   ],
   "source": [
    "df.dtypes"
   ]
  },
  {
   "cell_type": "code",
   "execution_count": 1079,
   "metadata": {
    "collapsed": false
   },
   "outputs": [
    {
     "data": {
      "text/plain": [
       "Index(['Unnamed: 0', 'Name', 'Age', 'Photo', 'Nationality', 'Flag', 'Overall',\n",
       "       'Potential', 'Club', 'Club Logo', 'Value', 'Wage', 'Special',\n",
       "       'Acceleration', 'Aggression', 'Agility', 'Balance', 'Ball control',\n",
       "       'Composure', 'Crossing', 'Curve', 'Dribbling', 'Finishing',\n",
       "       'Free kick accuracy', 'GK diving', 'GK handling', 'GK kicking',\n",
       "       'GK positioning', 'GK reflexes', 'Heading accuracy', 'Interceptions',\n",
       "       'Jumping', 'Long passing', 'Long shots', 'Marking', 'Penalties',\n",
       "       'Positioning', 'Reactions', 'Short passing', 'Shot power',\n",
       "       'Sliding tackle', 'Sprint speed', 'Stamina', 'Standing tackle',\n",
       "       'Strength', 'Vision', 'Volleys', 'CAM', 'CB', 'CDM', 'CF', 'CM', 'ID',\n",
       "       'LAM', 'LB', 'LCB', 'LCM', 'LDM', 'LF', 'LM', 'LS', 'LW', 'LWB',\n",
       "       'Preferred Positions', 'RAM', 'RB', 'RCB', 'RCM', 'RDM', 'RF', 'RM',\n",
       "       'RS', 'RW', 'RWB', 'ST'],\n",
       "      dtype='object')"
      ]
     },
     "execution_count": 1079,
     "metadata": {},
     "output_type": "execute_result"
    }
   ],
   "source": [
    "df.columns"
   ]
  },
  {
   "cell_type": "markdown",
   "metadata": {},
   "source": [
    "### Data Preprocessing"
   ]
  },
  {
   "cell_type": "code",
   "execution_count": 1080,
   "metadata": {
    "collapsed": false
   },
   "outputs": [],
   "source": [
    "# Drop the column 'Unnamed: 0' [Not required]\n",
    "df = df.drop(['Unnamed: 0'], axis=1)"
   ]
  },
  {
   "cell_type": "code",
   "execution_count": 1081,
   "metadata": {
    "collapsed": true
   },
   "outputs": [],
   "source": [
    "# Function to remove characters 'K', 'M' and '€' from the data\n",
    "def remove_char_from(value):\n",
    "    out = value.replace('€','')\n",
    "    if 'K' in out:\n",
    "        out = float(out.replace('K',''))*1000\n",
    "    elif 'M' in out:\n",
    "        out = float(out.replace('M',''))*1000000\n",
    "    return float(out)"
   ]
  },
  {
   "cell_type": "code",
   "execution_count": 1082,
   "metadata": {
    "collapsed": true
   },
   "outputs": [],
   "source": [
    "# Remove the characters from wage and value columns and convert them to numeric column\n",
    "df['Wage'] = [remove_char_from(x) for x in df.Wage]\n",
    "df['Value'] = [remove_char_from(x) for x in df.Value]"
   ]
  },
  {
   "cell_type": "code",
   "execution_count": 1083,
   "metadata": {
    "collapsed": false,
    "scrolled": true
   },
   "outputs": [
    {
     "data": {
      "text/html": [
       "<div>\n",
       "<table border=\"1\" class=\"dataframe\">\n",
       "  <thead>\n",
       "    <tr style=\"text-align: right;\">\n",
       "      <th></th>\n",
       "      <th>Name</th>\n",
       "      <th>Age</th>\n",
       "      <th>Photo</th>\n",
       "      <th>Nationality</th>\n",
       "      <th>Flag</th>\n",
       "      <th>Overall</th>\n",
       "      <th>Potential</th>\n",
       "      <th>Club</th>\n",
       "      <th>Club Logo</th>\n",
       "      <th>Value</th>\n",
       "      <th>...</th>\n",
       "      <th>RB</th>\n",
       "      <th>RCB</th>\n",
       "      <th>RCM</th>\n",
       "      <th>RDM</th>\n",
       "      <th>RF</th>\n",
       "      <th>RM</th>\n",
       "      <th>RS</th>\n",
       "      <th>RW</th>\n",
       "      <th>RWB</th>\n",
       "      <th>ST</th>\n",
       "    </tr>\n",
       "  </thead>\n",
       "  <tbody>\n",
       "    <tr>\n",
       "      <th>0</th>\n",
       "      <td>Cristiano Ronaldo</td>\n",
       "      <td>32</td>\n",
       "      <td>https://cdn.sofifa.org/48/18/players/20801.png</td>\n",
       "      <td>Portugal</td>\n",
       "      <td>https://cdn.sofifa.org/flags/38.png</td>\n",
       "      <td>94</td>\n",
       "      <td>94</td>\n",
       "      <td>Real Madrid CF</td>\n",
       "      <td>https://cdn.sofifa.org/24/18/teams/243.png</td>\n",
       "      <td>95500000.0</td>\n",
       "      <td>...</td>\n",
       "      <td>61.0</td>\n",
       "      <td>53.0</td>\n",
       "      <td>82.0</td>\n",
       "      <td>62.0</td>\n",
       "      <td>91.0</td>\n",
       "      <td>89.0</td>\n",
       "      <td>92.0</td>\n",
       "      <td>91.0</td>\n",
       "      <td>66.0</td>\n",
       "      <td>92.0</td>\n",
       "    </tr>\n",
       "    <tr>\n",
       "      <th>1</th>\n",
       "      <td>L. Messi</td>\n",
       "      <td>30</td>\n",
       "      <td>https://cdn.sofifa.org/48/18/players/158023.png</td>\n",
       "      <td>Argentina</td>\n",
       "      <td>https://cdn.sofifa.org/flags/52.png</td>\n",
       "      <td>93</td>\n",
       "      <td>93</td>\n",
       "      <td>FC Barcelona</td>\n",
       "      <td>https://cdn.sofifa.org/24/18/teams/241.png</td>\n",
       "      <td>105000000.0</td>\n",
       "      <td>...</td>\n",
       "      <td>57.0</td>\n",
       "      <td>45.0</td>\n",
       "      <td>84.0</td>\n",
       "      <td>59.0</td>\n",
       "      <td>92.0</td>\n",
       "      <td>90.0</td>\n",
       "      <td>88.0</td>\n",
       "      <td>91.0</td>\n",
       "      <td>62.0</td>\n",
       "      <td>88.0</td>\n",
       "    </tr>\n",
       "    <tr>\n",
       "      <th>2</th>\n",
       "      <td>Neymar</td>\n",
       "      <td>25</td>\n",
       "      <td>https://cdn.sofifa.org/48/18/players/190871.png</td>\n",
       "      <td>Brazil</td>\n",
       "      <td>https://cdn.sofifa.org/flags/54.png</td>\n",
       "      <td>92</td>\n",
       "      <td>94</td>\n",
       "      <td>Paris Saint-Germain</td>\n",
       "      <td>https://cdn.sofifa.org/24/18/teams/73.png</td>\n",
       "      <td>123000000.0</td>\n",
       "      <td>...</td>\n",
       "      <td>59.0</td>\n",
       "      <td>46.0</td>\n",
       "      <td>79.0</td>\n",
       "      <td>59.0</td>\n",
       "      <td>88.0</td>\n",
       "      <td>87.0</td>\n",
       "      <td>84.0</td>\n",
       "      <td>89.0</td>\n",
       "      <td>64.0</td>\n",
       "      <td>84.0</td>\n",
       "    </tr>\n",
       "    <tr>\n",
       "      <th>3</th>\n",
       "      <td>L. Suárez</td>\n",
       "      <td>30</td>\n",
       "      <td>https://cdn.sofifa.org/48/18/players/176580.png</td>\n",
       "      <td>Uruguay</td>\n",
       "      <td>https://cdn.sofifa.org/flags/60.png</td>\n",
       "      <td>92</td>\n",
       "      <td>92</td>\n",
       "      <td>FC Barcelona</td>\n",
       "      <td>https://cdn.sofifa.org/24/18/teams/241.png</td>\n",
       "      <td>97000000.0</td>\n",
       "      <td>...</td>\n",
       "      <td>64.0</td>\n",
       "      <td>58.0</td>\n",
       "      <td>80.0</td>\n",
       "      <td>65.0</td>\n",
       "      <td>88.0</td>\n",
       "      <td>85.0</td>\n",
       "      <td>88.0</td>\n",
       "      <td>87.0</td>\n",
       "      <td>68.0</td>\n",
       "      <td>88.0</td>\n",
       "    </tr>\n",
       "    <tr>\n",
       "      <th>4</th>\n",
       "      <td>M. Neuer</td>\n",
       "      <td>31</td>\n",
       "      <td>https://cdn.sofifa.org/48/18/players/167495.png</td>\n",
       "      <td>Germany</td>\n",
       "      <td>https://cdn.sofifa.org/flags/21.png</td>\n",
       "      <td>92</td>\n",
       "      <td>92</td>\n",
       "      <td>FC Bayern Munich</td>\n",
       "      <td>https://cdn.sofifa.org/24/18/teams/21.png</td>\n",
       "      <td>61000000.0</td>\n",
       "      <td>...</td>\n",
       "      <td>NaN</td>\n",
       "      <td>NaN</td>\n",
       "      <td>NaN</td>\n",
       "      <td>NaN</td>\n",
       "      <td>NaN</td>\n",
       "      <td>NaN</td>\n",
       "      <td>NaN</td>\n",
       "      <td>NaN</td>\n",
       "      <td>NaN</td>\n",
       "      <td>NaN</td>\n",
       "    </tr>\n",
       "    <tr>\n",
       "      <th>5</th>\n",
       "      <td>R. Lewandowski</td>\n",
       "      <td>28</td>\n",
       "      <td>https://cdn.sofifa.org/48/18/players/188545.png</td>\n",
       "      <td>Poland</td>\n",
       "      <td>https://cdn.sofifa.org/flags/37.png</td>\n",
       "      <td>91</td>\n",
       "      <td>91</td>\n",
       "      <td>FC Bayern Munich</td>\n",
       "      <td>https://cdn.sofifa.org/24/18/teams/21.png</td>\n",
       "      <td>92000000.0</td>\n",
       "      <td>...</td>\n",
       "      <td>58.0</td>\n",
       "      <td>57.0</td>\n",
       "      <td>78.0</td>\n",
       "      <td>62.0</td>\n",
       "      <td>87.0</td>\n",
       "      <td>82.0</td>\n",
       "      <td>88.0</td>\n",
       "      <td>84.0</td>\n",
       "      <td>61.0</td>\n",
       "      <td>88.0</td>\n",
       "    </tr>\n",
       "    <tr>\n",
       "      <th>6</th>\n",
       "      <td>De Gea</td>\n",
       "      <td>26</td>\n",
       "      <td>https://cdn.sofifa.org/48/18/players/193080.png</td>\n",
       "      <td>Spain</td>\n",
       "      <td>https://cdn.sofifa.org/flags/45.png</td>\n",
       "      <td>90</td>\n",
       "      <td>92</td>\n",
       "      <td>Manchester United</td>\n",
       "      <td>https://cdn.sofifa.org/24/18/teams/11.png</td>\n",
       "      <td>64500000.0</td>\n",
       "      <td>...</td>\n",
       "      <td>NaN</td>\n",
       "      <td>NaN</td>\n",
       "      <td>NaN</td>\n",
       "      <td>NaN</td>\n",
       "      <td>NaN</td>\n",
       "      <td>NaN</td>\n",
       "      <td>NaN</td>\n",
       "      <td>NaN</td>\n",
       "      <td>NaN</td>\n",
       "      <td>NaN</td>\n",
       "    </tr>\n",
       "    <tr>\n",
       "      <th>7</th>\n",
       "      <td>E. Hazard</td>\n",
       "      <td>26</td>\n",
       "      <td>https://cdn.sofifa.org/48/18/players/183277.png</td>\n",
       "      <td>Belgium</td>\n",
       "      <td>https://cdn.sofifa.org/flags/7.png</td>\n",
       "      <td>90</td>\n",
       "      <td>91</td>\n",
       "      <td>Chelsea</td>\n",
       "      <td>https://cdn.sofifa.org/24/18/teams/5.png</td>\n",
       "      <td>90500000.0</td>\n",
       "      <td>...</td>\n",
       "      <td>59.0</td>\n",
       "      <td>47.0</td>\n",
       "      <td>81.0</td>\n",
       "      <td>61.0</td>\n",
       "      <td>87.0</td>\n",
       "      <td>87.0</td>\n",
       "      <td>82.0</td>\n",
       "      <td>88.0</td>\n",
       "      <td>64.0</td>\n",
       "      <td>82.0</td>\n",
       "    </tr>\n",
       "    <tr>\n",
       "      <th>8</th>\n",
       "      <td>T. Kroos</td>\n",
       "      <td>27</td>\n",
       "      <td>https://cdn.sofifa.org/48/18/players/182521.png</td>\n",
       "      <td>Germany</td>\n",
       "      <td>https://cdn.sofifa.org/flags/21.png</td>\n",
       "      <td>90</td>\n",
       "      <td>90</td>\n",
       "      <td>Real Madrid CF</td>\n",
       "      <td>https://cdn.sofifa.org/24/18/teams/243.png</td>\n",
       "      <td>79000000.0</td>\n",
       "      <td>...</td>\n",
       "      <td>76.0</td>\n",
       "      <td>72.0</td>\n",
       "      <td>87.0</td>\n",
       "      <td>82.0</td>\n",
       "      <td>81.0</td>\n",
       "      <td>81.0</td>\n",
       "      <td>77.0</td>\n",
       "      <td>80.0</td>\n",
       "      <td>78.0</td>\n",
       "      <td>77.0</td>\n",
       "    </tr>\n",
       "    <tr>\n",
       "      <th>9</th>\n",
       "      <td>G. Higuaín</td>\n",
       "      <td>29</td>\n",
       "      <td>https://cdn.sofifa.org/48/18/players/167664.png</td>\n",
       "      <td>Argentina</td>\n",
       "      <td>https://cdn.sofifa.org/flags/52.png</td>\n",
       "      <td>90</td>\n",
       "      <td>90</td>\n",
       "      <td>Juventus</td>\n",
       "      <td>https://cdn.sofifa.org/24/18/teams/45.png</td>\n",
       "      <td>77000000.0</td>\n",
       "      <td>...</td>\n",
       "      <td>51.0</td>\n",
       "      <td>46.0</td>\n",
       "      <td>71.0</td>\n",
       "      <td>52.0</td>\n",
       "      <td>84.0</td>\n",
       "      <td>79.0</td>\n",
       "      <td>87.0</td>\n",
       "      <td>82.0</td>\n",
       "      <td>55.0</td>\n",
       "      <td>87.0</td>\n",
       "    </tr>\n",
       "  </tbody>\n",
       "</table>\n",
       "<p>10 rows × 74 columns</p>\n",
       "</div>"
      ],
      "text/plain": [
       "                Name  Age                                            Photo  \\\n",
       "0  Cristiano Ronaldo   32   https://cdn.sofifa.org/48/18/players/20801.png   \n",
       "1           L. Messi   30  https://cdn.sofifa.org/48/18/players/158023.png   \n",
       "2             Neymar   25  https://cdn.sofifa.org/48/18/players/190871.png   \n",
       "3          L. Suárez   30  https://cdn.sofifa.org/48/18/players/176580.png   \n",
       "4           M. Neuer   31  https://cdn.sofifa.org/48/18/players/167495.png   \n",
       "5     R. Lewandowski   28  https://cdn.sofifa.org/48/18/players/188545.png   \n",
       "6             De Gea   26  https://cdn.sofifa.org/48/18/players/193080.png   \n",
       "7          E. Hazard   26  https://cdn.sofifa.org/48/18/players/183277.png   \n",
       "8           T. Kroos   27  https://cdn.sofifa.org/48/18/players/182521.png   \n",
       "9         G. Higuaín   29  https://cdn.sofifa.org/48/18/players/167664.png   \n",
       "\n",
       "  Nationality                                 Flag  Overall  Potential  \\\n",
       "0    Portugal  https://cdn.sofifa.org/flags/38.png       94         94   \n",
       "1   Argentina  https://cdn.sofifa.org/flags/52.png       93         93   \n",
       "2      Brazil  https://cdn.sofifa.org/flags/54.png       92         94   \n",
       "3     Uruguay  https://cdn.sofifa.org/flags/60.png       92         92   \n",
       "4     Germany  https://cdn.sofifa.org/flags/21.png       92         92   \n",
       "5      Poland  https://cdn.sofifa.org/flags/37.png       91         91   \n",
       "6       Spain  https://cdn.sofifa.org/flags/45.png       90         92   \n",
       "7     Belgium   https://cdn.sofifa.org/flags/7.png       90         91   \n",
       "8     Germany  https://cdn.sofifa.org/flags/21.png       90         90   \n",
       "9   Argentina  https://cdn.sofifa.org/flags/52.png       90         90   \n",
       "\n",
       "                  Club                                   Club Logo  \\\n",
       "0       Real Madrid CF  https://cdn.sofifa.org/24/18/teams/243.png   \n",
       "1         FC Barcelona  https://cdn.sofifa.org/24/18/teams/241.png   \n",
       "2  Paris Saint-Germain   https://cdn.sofifa.org/24/18/teams/73.png   \n",
       "3         FC Barcelona  https://cdn.sofifa.org/24/18/teams/241.png   \n",
       "4     FC Bayern Munich   https://cdn.sofifa.org/24/18/teams/21.png   \n",
       "5     FC Bayern Munich   https://cdn.sofifa.org/24/18/teams/21.png   \n",
       "6    Manchester United   https://cdn.sofifa.org/24/18/teams/11.png   \n",
       "7              Chelsea    https://cdn.sofifa.org/24/18/teams/5.png   \n",
       "8       Real Madrid CF  https://cdn.sofifa.org/24/18/teams/243.png   \n",
       "9             Juventus   https://cdn.sofifa.org/24/18/teams/45.png   \n",
       "\n",
       "         Value  ...     RB   RCB   RCM   RDM    RF    RM    RS    RW   RWB  \\\n",
       "0   95500000.0  ...   61.0  53.0  82.0  62.0  91.0  89.0  92.0  91.0  66.0   \n",
       "1  105000000.0  ...   57.0  45.0  84.0  59.0  92.0  90.0  88.0  91.0  62.0   \n",
       "2  123000000.0  ...   59.0  46.0  79.0  59.0  88.0  87.0  84.0  89.0  64.0   \n",
       "3   97000000.0  ...   64.0  58.0  80.0  65.0  88.0  85.0  88.0  87.0  68.0   \n",
       "4   61000000.0  ...    NaN   NaN   NaN   NaN   NaN   NaN   NaN   NaN   NaN   \n",
       "5   92000000.0  ...   58.0  57.0  78.0  62.0  87.0  82.0  88.0  84.0  61.0   \n",
       "6   64500000.0  ...    NaN   NaN   NaN   NaN   NaN   NaN   NaN   NaN   NaN   \n",
       "7   90500000.0  ...   59.0  47.0  81.0  61.0  87.0  87.0  82.0  88.0  64.0   \n",
       "8   79000000.0  ...   76.0  72.0  87.0  82.0  81.0  81.0  77.0  80.0  78.0   \n",
       "9   77000000.0  ...   51.0  46.0  71.0  52.0  84.0  79.0  87.0  82.0  55.0   \n",
       "\n",
       "     ST  \n",
       "0  92.0  \n",
       "1  88.0  \n",
       "2  84.0  \n",
       "3  88.0  \n",
       "4   NaN  \n",
       "5  88.0  \n",
       "6   NaN  \n",
       "7  82.0  \n",
       "8  77.0  \n",
       "9  87.0  \n",
       "\n",
       "[10 rows x 74 columns]"
      ]
     },
     "execution_count": 1083,
     "metadata": {},
     "output_type": "execute_result"
    }
   ],
   "source": [
    "df.dtypes\n",
    "df.head(10)"
   ]
  },
  {
   "cell_type": "markdown",
   "metadata": {},
   "source": [
    "###### Subset from the main dataframe (Selecting only required columns)"
   ]
  },
  {
   "cell_type": "code",
   "execution_count": 1084,
   "metadata": {
    "collapsed": true
   },
   "outputs": [],
   "source": [
    "subset_df = df[['Name', 'Age', 'Nationality', 'Overall', 'Wage', 'Potential', 'Club', 'Value', 'Preferred Positions']]"
   ]
  },
  {
   "cell_type": "code",
   "execution_count": 1085,
   "metadata": {
    "collapsed": false
   },
   "outputs": [
    {
     "data": {
      "text/html": [
       "<div>\n",
       "<table border=\"1\" class=\"dataframe\">\n",
       "  <thead>\n",
       "    <tr style=\"text-align: right;\">\n",
       "      <th></th>\n",
       "      <th>Name</th>\n",
       "      <th>Age</th>\n",
       "      <th>Nationality</th>\n",
       "      <th>Overall</th>\n",
       "      <th>Wage</th>\n",
       "      <th>Potential</th>\n",
       "      <th>Club</th>\n",
       "      <th>Value</th>\n",
       "      <th>Preferred Positions</th>\n",
       "    </tr>\n",
       "  </thead>\n",
       "  <tbody>\n",
       "    <tr>\n",
       "      <th>0</th>\n",
       "      <td>Cristiano Ronaldo</td>\n",
       "      <td>32</td>\n",
       "      <td>Portugal</td>\n",
       "      <td>94</td>\n",
       "      <td>565000.0</td>\n",
       "      <td>94</td>\n",
       "      <td>Real Madrid CF</td>\n",
       "      <td>95500000.0</td>\n",
       "      <td>ST LW</td>\n",
       "    </tr>\n",
       "    <tr>\n",
       "      <th>1</th>\n",
       "      <td>L. Messi</td>\n",
       "      <td>30</td>\n",
       "      <td>Argentina</td>\n",
       "      <td>93</td>\n",
       "      <td>565000.0</td>\n",
       "      <td>93</td>\n",
       "      <td>FC Barcelona</td>\n",
       "      <td>105000000.0</td>\n",
       "      <td>RW</td>\n",
       "    </tr>\n",
       "    <tr>\n",
       "      <th>2</th>\n",
       "      <td>Neymar</td>\n",
       "      <td>25</td>\n",
       "      <td>Brazil</td>\n",
       "      <td>92</td>\n",
       "      <td>280000.0</td>\n",
       "      <td>94</td>\n",
       "      <td>Paris Saint-Germain</td>\n",
       "      <td>123000000.0</td>\n",
       "      <td>LW</td>\n",
       "    </tr>\n",
       "    <tr>\n",
       "      <th>3</th>\n",
       "      <td>L. Suárez</td>\n",
       "      <td>30</td>\n",
       "      <td>Uruguay</td>\n",
       "      <td>92</td>\n",
       "      <td>510000.0</td>\n",
       "      <td>92</td>\n",
       "      <td>FC Barcelona</td>\n",
       "      <td>97000000.0</td>\n",
       "      <td>ST</td>\n",
       "    </tr>\n",
       "    <tr>\n",
       "      <th>4</th>\n",
       "      <td>M. Neuer</td>\n",
       "      <td>31</td>\n",
       "      <td>Germany</td>\n",
       "      <td>92</td>\n",
       "      <td>230000.0</td>\n",
       "      <td>92</td>\n",
       "      <td>FC Bayern Munich</td>\n",
       "      <td>61000000.0</td>\n",
       "      <td>GK</td>\n",
       "    </tr>\n",
       "  </tbody>\n",
       "</table>\n",
       "</div>"
      ],
      "text/plain": [
       "                Name  Age Nationality  Overall      Wage  Potential  \\\n",
       "0  Cristiano Ronaldo   32    Portugal       94  565000.0         94   \n",
       "1           L. Messi   30   Argentina       93  565000.0         93   \n",
       "2             Neymar   25      Brazil       92  280000.0         94   \n",
       "3          L. Suárez   30     Uruguay       92  510000.0         92   \n",
       "4           M. Neuer   31     Germany       92  230000.0         92   \n",
       "\n",
       "                  Club        Value Preferred Positions  \n",
       "0       Real Madrid CF   95500000.0              ST LW   \n",
       "1         FC Barcelona  105000000.0                 RW   \n",
       "2  Paris Saint-Germain  123000000.0                 LW   \n",
       "3         FC Barcelona   97000000.0                 ST   \n",
       "4     FC Bayern Munich   61000000.0                 GK   "
      ]
     },
     "execution_count": 1085,
     "metadata": {},
     "output_type": "execute_result"
    }
   ],
   "source": [
    "subset_df.head()"
   ]
  },
  {
   "cell_type": "markdown",
   "metadata": {},
   "source": [
    "###### Data Cleaning"
   ]
  },
  {
   "cell_type": "code",
   "execution_count": 1086,
   "metadata": {
    "collapsed": false
   },
   "outputs": [
    {
     "data": {
      "text/plain": [
       "Name                     0\n",
       "Age                      0\n",
       "Nationality              0\n",
       "Overall                  0\n",
       "Wage                     0\n",
       "Potential                0\n",
       "Club                   248\n",
       "Value                    0\n",
       "Preferred Positions      0\n",
       "dtype: int64"
      ]
     },
     "execution_count": 1086,
     "metadata": {},
     "output_type": "execute_result"
    }
   ],
   "source": [
    "# Finding null value columns\n",
    "subset_df.isnull().sum()"
   ]
  },
  {
   "cell_type": "code",
   "execution_count": 1087,
   "metadata": {
    "collapsed": false
   },
   "outputs": [
    {
     "data": {
      "text/html": [
       "<div>\n",
       "<table border=\"1\" class=\"dataframe\">\n",
       "  <thead>\n",
       "    <tr style=\"text-align: right;\">\n",
       "      <th></th>\n",
       "      <th>Name</th>\n",
       "      <th>Age</th>\n",
       "      <th>Nationality</th>\n",
       "      <th>Overall</th>\n",
       "      <th>Wage</th>\n",
       "      <th>Potential</th>\n",
       "      <th>Club</th>\n",
       "      <th>Value</th>\n",
       "      <th>Preferred Positions</th>\n",
       "    </tr>\n",
       "  </thead>\n",
       "  <tbody>\n",
       "    <tr>\n",
       "      <th>0</th>\n",
       "      <td>Cristiano Ronaldo</td>\n",
       "      <td>32</td>\n",
       "      <td>Portugal</td>\n",
       "      <td>94</td>\n",
       "      <td>565000.0</td>\n",
       "      <td>94</td>\n",
       "      <td>Real Madrid CF</td>\n",
       "      <td>95500000.0</td>\n",
       "      <td>ST LW</td>\n",
       "    </tr>\n",
       "    <tr>\n",
       "      <th>1</th>\n",
       "      <td>L. Messi</td>\n",
       "      <td>30</td>\n",
       "      <td>Argentina</td>\n",
       "      <td>93</td>\n",
       "      <td>565000.0</td>\n",
       "      <td>93</td>\n",
       "      <td>FC Barcelona</td>\n",
       "      <td>105000000.0</td>\n",
       "      <td>RW</td>\n",
       "    </tr>\n",
       "    <tr>\n",
       "      <th>2</th>\n",
       "      <td>Neymar</td>\n",
       "      <td>25</td>\n",
       "      <td>Brazil</td>\n",
       "      <td>92</td>\n",
       "      <td>280000.0</td>\n",
       "      <td>94</td>\n",
       "      <td>Paris Saint-Germain</td>\n",
       "      <td>123000000.0</td>\n",
       "      <td>LW</td>\n",
       "    </tr>\n",
       "    <tr>\n",
       "      <th>3</th>\n",
       "      <td>L. Suárez</td>\n",
       "      <td>30</td>\n",
       "      <td>Uruguay</td>\n",
       "      <td>92</td>\n",
       "      <td>510000.0</td>\n",
       "      <td>92</td>\n",
       "      <td>FC Barcelona</td>\n",
       "      <td>97000000.0</td>\n",
       "      <td>ST</td>\n",
       "    </tr>\n",
       "    <tr>\n",
       "      <th>4</th>\n",
       "      <td>M. Neuer</td>\n",
       "      <td>31</td>\n",
       "      <td>Germany</td>\n",
       "      <td>92</td>\n",
       "      <td>230000.0</td>\n",
       "      <td>92</td>\n",
       "      <td>FC Bayern Munich</td>\n",
       "      <td>61000000.0</td>\n",
       "      <td>GK</td>\n",
       "    </tr>\n",
       "  </tbody>\n",
       "</table>\n",
       "</div>"
      ],
      "text/plain": [
       "                Name  Age Nationality  Overall      Wage  Potential  \\\n",
       "0  Cristiano Ronaldo   32    Portugal       94  565000.0         94   \n",
       "1           L. Messi   30   Argentina       93  565000.0         93   \n",
       "2             Neymar   25      Brazil       92  280000.0         94   \n",
       "3          L. Suárez   30     Uruguay       92  510000.0         92   \n",
       "4           M. Neuer   31     Germany       92  230000.0         92   \n",
       "\n",
       "                  Club        Value Preferred Positions  \n",
       "0       Real Madrid CF   95500000.0              ST LW   \n",
       "1         FC Barcelona  105000000.0                 RW   \n",
       "2  Paris Saint-Germain  123000000.0                 LW   \n",
       "3         FC Barcelona   97000000.0                 ST   \n",
       "4     FC Bayern Munich   61000000.0                 GK   "
      ]
     },
     "execution_count": 1087,
     "metadata": {},
     "output_type": "execute_result"
    }
   ],
   "source": [
    "#Remove null value rows/players\n",
    "subset_df = subset_df.dropna()\n",
    "subset_df.head()"
   ]
  },
  {
   "cell_type": "markdown",
   "metadata": {},
   "source": [
    "###### Feature Engineering"
   ]
  },
  {
   "cell_type": "code",
   "execution_count": 1088,
   "metadata": {
    "collapsed": true
   },
   "outputs": [],
   "source": [
    "subset_df['Growth'] = subset_df['Potential'] - subset_df['Overall']"
   ]
  },
  {
   "cell_type": "code",
   "execution_count": 1089,
   "metadata": {
    "collapsed": false,
    "scrolled": false
   },
   "outputs": [
    {
     "data": {
      "text/html": [
       "<div>\n",
       "<table border=\"1\" class=\"dataframe\">\n",
       "  <thead>\n",
       "    <tr style=\"text-align: right;\">\n",
       "      <th></th>\n",
       "      <th>Name</th>\n",
       "      <th>Age</th>\n",
       "      <th>Nationality</th>\n",
       "      <th>Overall</th>\n",
       "      <th>Wage</th>\n",
       "      <th>Potential</th>\n",
       "      <th>Club</th>\n",
       "      <th>Value</th>\n",
       "      <th>Preferred Positions</th>\n",
       "      <th>Growth</th>\n",
       "    </tr>\n",
       "  </thead>\n",
       "  <tbody>\n",
       "    <tr>\n",
       "      <th>0</th>\n",
       "      <td>Cristiano Ronaldo</td>\n",
       "      <td>32</td>\n",
       "      <td>Portugal</td>\n",
       "      <td>94</td>\n",
       "      <td>565000.0</td>\n",
       "      <td>94</td>\n",
       "      <td>Real Madrid CF</td>\n",
       "      <td>95500000.0</td>\n",
       "      <td>ST LW</td>\n",
       "      <td>0</td>\n",
       "    </tr>\n",
       "    <tr>\n",
       "      <th>1</th>\n",
       "      <td>L. Messi</td>\n",
       "      <td>30</td>\n",
       "      <td>Argentina</td>\n",
       "      <td>93</td>\n",
       "      <td>565000.0</td>\n",
       "      <td>93</td>\n",
       "      <td>FC Barcelona</td>\n",
       "      <td>105000000.0</td>\n",
       "      <td>RW</td>\n",
       "      <td>0</td>\n",
       "    </tr>\n",
       "    <tr>\n",
       "      <th>2</th>\n",
       "      <td>Neymar</td>\n",
       "      <td>25</td>\n",
       "      <td>Brazil</td>\n",
       "      <td>92</td>\n",
       "      <td>280000.0</td>\n",
       "      <td>94</td>\n",
       "      <td>Paris Saint-Germain</td>\n",
       "      <td>123000000.0</td>\n",
       "      <td>LW</td>\n",
       "      <td>2</td>\n",
       "    </tr>\n",
       "    <tr>\n",
       "      <th>3</th>\n",
       "      <td>L. Suárez</td>\n",
       "      <td>30</td>\n",
       "      <td>Uruguay</td>\n",
       "      <td>92</td>\n",
       "      <td>510000.0</td>\n",
       "      <td>92</td>\n",
       "      <td>FC Barcelona</td>\n",
       "      <td>97000000.0</td>\n",
       "      <td>ST</td>\n",
       "      <td>0</td>\n",
       "    </tr>\n",
       "    <tr>\n",
       "      <th>4</th>\n",
       "      <td>M. Neuer</td>\n",
       "      <td>31</td>\n",
       "      <td>Germany</td>\n",
       "      <td>92</td>\n",
       "      <td>230000.0</td>\n",
       "      <td>92</td>\n",
       "      <td>FC Bayern Munich</td>\n",
       "      <td>61000000.0</td>\n",
       "      <td>GK</td>\n",
       "      <td>0</td>\n",
       "    </tr>\n",
       "  </tbody>\n",
       "</table>\n",
       "</div>"
      ],
      "text/plain": [
       "                Name  Age Nationality  Overall      Wage  Potential  \\\n",
       "0  Cristiano Ronaldo   32    Portugal       94  565000.0         94   \n",
       "1           L. Messi   30   Argentina       93  565000.0         93   \n",
       "2             Neymar   25      Brazil       92  280000.0         94   \n",
       "3          L. Suárez   30     Uruguay       92  510000.0         92   \n",
       "4           M. Neuer   31     Germany       92  230000.0         92   \n",
       "\n",
       "                  Club        Value Preferred Positions  Growth  \n",
       "0       Real Madrid CF   95500000.0              ST LW        0  \n",
       "1         FC Barcelona  105000000.0                 RW        0  \n",
       "2  Paris Saint-Germain  123000000.0                 LW        2  \n",
       "3         FC Barcelona   97000000.0                 ST        0  \n",
       "4     FC Bayern Munich   61000000.0                 GK        0  "
      ]
     },
     "execution_count": 1089,
     "metadata": {},
     "output_type": "execute_result"
    }
   ],
   "source": [
    "subset_df.head()"
   ]
  },
  {
   "cell_type": "markdown",
   "metadata": {},
   "source": [
    "### 1) How does the avg. overall ratings, avg. growth ratings and avg. potential ratings trend for all ages?  \n"
   ]
  },
  {
   "cell_type": "code",
   "execution_count": 1090,
   "metadata": {
    "collapsed": false
   },
   "outputs": [
    {
     "data": {
      "text/plain": [
       "array([32, 30, 25, 31, 28, 26, 27, 29, 39, 23, 24, 35, 33, 34, 36, 21, 22,\n",
       "       18, 20, 19, 37, 38, 40, 17, 44, 41, 16, 43, 47])"
      ]
     },
     "execution_count": 1090,
     "metadata": {},
     "output_type": "execute_result"
    }
   ],
   "source": [
    "subset_df.Age.unique()"
   ]
  },
  {
   "cell_type": "code",
   "execution_count": 1189,
   "metadata": {
    "collapsed": false
   },
   "outputs": [],
   "source": [
    "age = subset_df.sort_values(\"Age\")['Age'].unique()\n",
    "fifa_growth = subset_df.groupby(['Age'])['Growth'].mean()\n",
    "fifa_potential = subset_df.groupby(['Age'])['Potential'].mean()\n",
    "fifa_overall = subset_df.groupby(['Age'])['Overall'].mean()\n",
    "\n",
    "frames = [fifa_growth, fifa_potential, fifa_Overall]\n",
    "summary_result = pd.concat(frames,axis=1)"
   ]
  },
  {
   "cell_type": "code",
   "execution_count": 1186,
   "metadata": {
    "collapsed": false
   },
   "outputs": [
    {
     "data": {
      "text/html": [
       "<div>\n",
       "<table border=\"1\" class=\"dataframe\">\n",
       "  <thead>\n",
       "    <tr style=\"text-align: right;\">\n",
       "      <th></th>\n",
       "      <th>Growth</th>\n",
       "      <th>Potential</th>\n",
       "      <th>Overall</th>\n",
       "    </tr>\n",
       "    <tr>\n",
       "      <th>Age</th>\n",
       "      <th></th>\n",
       "      <th></th>\n",
       "      <th></th>\n",
       "    </tr>\n",
       "  </thead>\n",
       "  <tbody>\n",
       "    <tr>\n",
       "      <th>16</th>\n",
       "      <td>18.692308</td>\n",
       "      <td>76.538462</td>\n",
       "      <td>57.846154</td>\n",
       "    </tr>\n",
       "    <tr>\n",
       "      <th>17</th>\n",
       "      <td>17.403101</td>\n",
       "      <td>73.492248</td>\n",
       "      <td>56.089147</td>\n",
       "    </tr>\n",
       "    <tr>\n",
       "      <th>18</th>\n",
       "      <td>15.367560</td>\n",
       "      <td>72.654762</td>\n",
       "      <td>57.287202</td>\n",
       "    </tr>\n",
       "    <tr>\n",
       "      <th>19</th>\n",
       "      <td>13.386492</td>\n",
       "      <td>72.806754</td>\n",
       "      <td>59.420263</td>\n",
       "    </tr>\n",
       "    <tr>\n",
       "      <th>20</th>\n",
       "      <td>11.156578</td>\n",
       "      <td>72.719935</td>\n",
       "      <td>61.563358</td>\n",
       "    </tr>\n",
       "    <tr>\n",
       "      <th>21</th>\n",
       "      <td>9.399844</td>\n",
       "      <td>72.805947</td>\n",
       "      <td>63.406103</td>\n",
       "    </tr>\n",
       "    <tr>\n",
       "      <th>22</th>\n",
       "      <td>7.774562</td>\n",
       "      <td>72.555217</td>\n",
       "      <td>64.780655</td>\n",
       "    </tr>\n",
       "    <tr>\n",
       "      <th>23</th>\n",
       "      <td>6.379461</td>\n",
       "      <td>72.504734</td>\n",
       "      <td>66.125273</td>\n",
       "    </tr>\n",
       "    <tr>\n",
       "      <th>24</th>\n",
       "      <td>4.910809</td>\n",
       "      <td>72.113379</td>\n",
       "      <td>67.202570</td>\n",
       "    </tr>\n",
       "    <tr>\n",
       "      <th>25</th>\n",
       "      <td>2.813084</td>\n",
       "      <td>70.844459</td>\n",
       "      <td>68.031375</td>\n",
       "    </tr>\n",
       "  </tbody>\n",
       "</table>\n",
       "</div>"
      ],
      "text/plain": [
       "        Growth  Potential    Overall\n",
       "Age                                 \n",
       "16   18.692308  76.538462  57.846154\n",
       "17   17.403101  73.492248  56.089147\n",
       "18   15.367560  72.654762  57.287202\n",
       "19   13.386492  72.806754  59.420263\n",
       "20   11.156578  72.719935  61.563358\n",
       "21    9.399844  72.805947  63.406103\n",
       "22    7.774562  72.555217  64.780655\n",
       "23    6.379461  72.504734  66.125273\n",
       "24    4.910809  72.113379  67.202570\n",
       "25    2.813084  70.844459  68.031375"
      ]
     },
     "execution_count": 1186,
     "metadata": {},
     "output_type": "execute_result"
    }
   ],
   "source": [
    "summary_result.head(10)"
   ]
  },
  {
   "cell_type": "markdown",
   "metadata": {},
   "source": [
    "###### Plotting the Average Growth, average Potential and average overall ratings by Age"
   ]
  },
  {
   "cell_type": "code",
   "execution_count": 1241,
   "metadata": {
    "collapsed": false,
    "scrolled": false
   },
   "outputs": [
    {
     "data": {
      "text/plain": [
       "<matplotlib.figure.Figure at 0xf97ebae10>"
      ]
     },
     "metadata": {},
     "output_type": "display_data"
    },
    {
     "data": {
      "image/png": "[encoded data removed]",
      "text/plain": [
       "<matplotlib.figure.Figure at 0xf97ec2208>"
      ]
     },
     "metadata": {},
     "output_type": "display_data"
    }
   ],
   "source": [
    "plt.figure()\n",
    "plt.figure(figsize=(10,5))\n",
    "plt.title('Age vs Mean Overall/Potential/Growth Rating', fontsize=17, fontweight='bold')\n",
    "plt.xlabel('Player Age', fontsize=15)\n",
    "plt.ylabel('Player Ratings', fontsize=15)\n",
    "sns.set_style(\"whitegrid\")\n",
    "plt.plot(age, fifa_overall, label=\"Overall\")\n",
    "plt.plot(age, fifa_potential, label=\"Potential\")\n",
    "plt.plot(age, fifa_growth, label=\"Growth\")\n",
    "plt.legend(loc=6, prop={'size': 15}, frameon=True,shadow=True, facecolor=\"white\", edgecolor=\"black\")\n",
    "plt.show()"
   ]
  },
  {
   "cell_type": "markdown",
   "metadata": {},
   "source": [
    "###### Inference: "
   ]
  },
  {
   "cell_type": "raw",
   "metadata": {},
   "source": [
    "1) Mean Growth ratings decreases gradualy as the player ages and becomes constant from the age 27 \n",
    "2) Mean Overall Ratings increases gradually from 17 , becomes constant from 27-40  and then sharply declines after 40\n",
    "3) Mean Potential ratings decreases gradually and becomes almost constant until it sharply declines after 40"
   ]
  },
  {
   "cell_type": "markdown",
   "metadata": {},
   "source": [
    "### 2)  Frequency Distribution of players on their overall rating"
   ]
  },
  {
   "cell_type": "code",
   "execution_count": 1173,
   "metadata": {
    "collapsed": false
   },
   "outputs": [
    {
     "data": {
      "image/png": "[encoded data removed]",
      "text/plain": [
       "<matplotlib.figure.Figure at 0xf8993ad68>"
      ]
     },
     "metadata": {},
     "output_type": "display_data"
    }
   ],
   "source": [
    "plt.figure(figsize=(16,5))\n",
    "sns.set_style(\"whitegrid\")\n",
    "plt.title('Distribution of players on their overall rating', fontsize=18, fontweight='bold', y=1.05,)\n",
    "plt.xlabel('Overall Rating', fontsize=15)\n",
    "plt.ylabel('Frequency', fontsize=15)\n",
    "sns.countplot(x=\"Overall\", data=subset_df, palette=\"hls\");\n",
    "plt.show()"
   ]
  },
  {
   "cell_type": "markdown",
   "metadata": {},
   "source": [
    "###### Inference"
   ]
  },
  {
   "cell_type": "raw",
   "metadata": {},
   "source": [
    "Majority of the players (about 1100 players have an overall rating of 66). From the plot, we can say that Overall rating is normally distributed."
   ]
  },
  {
   "cell_type": "markdown",
   "metadata": {},
   "source": [
    "### 3) Clubs with most players having an overall rating more than 85"
   ]
  },
  {
   "cell_type": "code",
   "execution_count": 1095,
   "metadata": {
    "collapsed": false
   },
   "outputs": [],
   "source": [
    "cutoff=85\n",
    "few_players = subset_df[subset_df['Overall']>cutoff]"
   ]
  },
  {
   "cell_type": "code",
   "execution_count": 1096,
   "metadata": {
    "collapsed": false
   },
   "outputs": [
    {
     "data": {
      "text/html": [
       "<div>\n",
       "<table border=\"1\" class=\"dataframe\">\n",
       "  <thead>\n",
       "    <tr style=\"text-align: right;\">\n",
       "      <th></th>\n",
       "      <th>Name</th>\n",
       "      <th>Age</th>\n",
       "      <th>Nationality</th>\n",
       "      <th>Overall</th>\n",
       "      <th>Wage</th>\n",
       "      <th>Potential</th>\n",
       "      <th>Club</th>\n",
       "      <th>Value</th>\n",
       "      <th>Preferred Positions</th>\n",
       "      <th>Growth</th>\n",
       "    </tr>\n",
       "  </thead>\n",
       "  <tbody>\n",
       "    <tr>\n",
       "      <th>0</th>\n",
       "      <td>Cristiano Ronaldo</td>\n",
       "      <td>32</td>\n",
       "      <td>Portugal</td>\n",
       "      <td>94</td>\n",
       "      <td>565000.0</td>\n",
       "      <td>94</td>\n",
       "      <td>Real Madrid CF</td>\n",
       "      <td>95500000.0</td>\n",
       "      <td>ST LW</td>\n",
       "      <td>0</td>\n",
       "    </tr>\n",
       "    <tr>\n",
       "      <th>1</th>\n",
       "      <td>L. Messi</td>\n",
       "      <td>30</td>\n",
       "      <td>Argentina</td>\n",
       "      <td>93</td>\n",
       "      <td>565000.0</td>\n",
       "      <td>93</td>\n",
       "      <td>FC Barcelona</td>\n",
       "      <td>105000000.0</td>\n",
       "      <td>RW</td>\n",
       "      <td>0</td>\n",
       "    </tr>\n",
       "    <tr>\n",
       "      <th>2</th>\n",
       "      <td>Neymar</td>\n",
       "      <td>25</td>\n",
       "      <td>Brazil</td>\n",
       "      <td>92</td>\n",
       "      <td>280000.0</td>\n",
       "      <td>94</td>\n",
       "      <td>Paris Saint-Germain</td>\n",
       "      <td>123000000.0</td>\n",
       "      <td>LW</td>\n",
       "      <td>2</td>\n",
       "    </tr>\n",
       "    <tr>\n",
       "      <th>3</th>\n",
       "      <td>L. Suárez</td>\n",
       "      <td>30</td>\n",
       "      <td>Uruguay</td>\n",
       "      <td>92</td>\n",
       "      <td>510000.0</td>\n",
       "      <td>92</td>\n",
       "      <td>FC Barcelona</td>\n",
       "      <td>97000000.0</td>\n",
       "      <td>ST</td>\n",
       "      <td>0</td>\n",
       "    </tr>\n",
       "    <tr>\n",
       "      <th>4</th>\n",
       "      <td>M. Neuer</td>\n",
       "      <td>31</td>\n",
       "      <td>Germany</td>\n",
       "      <td>92</td>\n",
       "      <td>230000.0</td>\n",
       "      <td>92</td>\n",
       "      <td>FC Bayern Munich</td>\n",
       "      <td>61000000.0</td>\n",
       "      <td>GK</td>\n",
       "      <td>0</td>\n",
       "    </tr>\n",
       "  </tbody>\n",
       "</table>\n",
       "</div>"
      ],
      "text/plain": [
       "                Name  Age Nationality  Overall      Wage  Potential  \\\n",
       "0  Cristiano Ronaldo   32    Portugal       94  565000.0         94   \n",
       "1           L. Messi   30   Argentina       93  565000.0         93   \n",
       "2             Neymar   25      Brazil       92  280000.0         94   \n",
       "3          L. Suárez   30     Uruguay       92  510000.0         92   \n",
       "4           M. Neuer   31     Germany       92  230000.0         92   \n",
       "\n",
       "                  Club        Value Preferred Positions  Growth  \n",
       "0       Real Madrid CF   95500000.0              ST LW        0  \n",
       "1         FC Barcelona  105000000.0                 RW        0  \n",
       "2  Paris Saint-Germain  123000000.0                 LW        2  \n",
       "3         FC Barcelona   97000000.0                 ST        0  \n",
       "4     FC Bayern Munich   61000000.0                 GK        0  "
      ]
     },
     "execution_count": 1096,
     "metadata": {},
     "output_type": "execute_result"
    }
   ],
   "source": [
    "few_players.head()"
   ]
  },
  {
   "cell_type": "code",
   "execution_count": 1097,
   "metadata": {
    "collapsed": false
   },
   "outputs": [],
   "source": [
    "No_of_players_in_each_club = few_players.groupby(['Club'])['Overall'].count()\n",
    "No_of_players_in_each_club_sorted = No_of_players_in_each_club.sort_values(ascending=False)"
   ]
  },
  {
   "cell_type": "code",
   "execution_count": 1098,
   "metadata": {
    "collapsed": false,
    "scrolled": true
   },
   "outputs": [
    {
     "data": {
      "text/plain": [
       "Club\n",
       "FC Bayern Munich       12\n",
       "Real Madrid CF          8\n",
       "Chelsea                 6\n",
       "FC Barcelona            6\n",
       "Juventus                5\n",
       "Manchester United       4\n",
       "Tottenham Hotspur       4\n",
       "Paris Saint-Germain     4\n",
       "Manchester City         3\n",
       "Borussia Dortmund       3\n",
       "Atlético Madrid         3\n",
       "Arsenal                 3\n",
       "Inter                   2\n",
       "Napoli                  2\n",
       "Liverpool               1\n",
       "Roma                    1\n",
       "Milan                   1\n",
       "Beşiktaş JK             1\n",
       "Name: Overall, dtype: int64"
      ]
     },
     "execution_count": 1098,
     "metadata": {},
     "output_type": "execute_result"
    }
   ],
   "source": [
    "No_of_players_in_each_club_sorted"
   ]
  },
  {
   "cell_type": "markdown",
   "metadata": {},
   "source": [
    "###### Plot the data"
   ]
  },
  {
   "cell_type": "code",
   "execution_count": 1249,
   "metadata": {
    "collapsed": false,
    "scrolled": false
   },
   "outputs": [
    {
     "data": {
      "image/png": "[encoded data removed]",
      "text/plain": [
       "<matplotlib.figure.Figure at 0xf8b968128>"
      ]
     },
     "metadata": {},
     "output_type": "display_data"
    }
   ],
   "source": [
    "plt.figure(figsize=(14,6))\n",
    "ax = sns.countplot(x = 'Club', data = few_players, order = No_of_players_in_each_club_sorted.index)\n",
    "\n",
    "ax.set_xticklabels(labels = No_of_players_in_each_club_sorted.index, rotation='vertical')\n",
    "ax.set_ylabel('Number of players (Over 85)',fontsize=15)\n",
    "ax.set_xlabel('Club',fontsize=15)\n",
    "ax.tick_params(labelsize=12)\n",
    "ax.set_title('Top players (Overall > %.i)' %cutoff,fontsize=15,fontweight='bold', y=1.05,)\n",
    "plt.show()"
   ]
  },
  {
   "cell_type": "markdown",
   "metadata": {},
   "source": [
    "###### Inference"
   ]
  },
  {
   "cell_type": "raw",
   "metadata": {},
   "source": [
    "There are 12 players with a rating more than 85 in FC Bayern Munich\n",
    "There are 8 players in Real Madrid CF with a rating more than 85\n",
    "There are 6 players in both Chelsea and FC Barcelona with a rating more than 85\n",
    "From these numbers, we can say that FC Bayern Munich has a strong team based on the overall ratings"
   ]
  },
  {
   "cell_type": "markdown",
   "metadata": {},
   "source": [
    "### 4) a ) Does overall ratings have an influence on wage and value of the player?"
   ]
  },
  {
   "cell_type": "code",
   "execution_count": 1100,
   "metadata": {
    "collapsed": false,
    "scrolled": true
   },
   "outputs": [
    {
     "data": {
      "text/plain": [
       "array([94, 93, 92, 91, 90, 89, 88, 87, 86, 85, 84, 83, 82, 81, 80, 79, 78,\n",
       "       77, 76, 75, 74, 73, 72, 71, 70, 69, 68, 67, 66, 65, 64, 63, 62, 61,\n",
       "       60, 59, 58, 57, 56, 55, 54, 53, 52, 51, 50, 49, 48, 47, 46])"
      ]
     },
     "execution_count": 1100,
     "metadata": {},
     "output_type": "execute_result"
    }
   ],
   "source": [
    "subset_df.Overall.unique()"
   ]
  },
  {
   "cell_type": "code",
   "execution_count": 1101,
   "metadata": {
    "collapsed": true
   },
   "outputs": [],
   "source": [
    "Wage_Overall = subset_df.groupby(['Overall'])['Wage'].mean()\n",
    "Value_Overall = subset_df.groupby(['Overall'])['Value'].mean()"
   ]
  },
  {
   "cell_type": "code",
   "execution_count": 1102,
   "metadata": {
    "collapsed": true
   },
   "outputs": [],
   "source": [
    "Wage_Overall = Wage_Overall.apply(lambda x: x/1000)\n",
    "Value_Overall = Value_Overall.apply(lambda x: x/1000000)"
   ]
  },
  {
   "cell_type": "code",
   "execution_count": 1281,
   "metadata": {
    "collapsed": false
   },
   "outputs": [
    {
     "data": {
      "image/png": "[encoded data removed]",
      "text/plain": [
       "<matplotlib.figure.Figure at 0xf89a1ba20>"
      ]
     },
     "metadata": {},
     "output_type": "display_data"
    }
   ],
   "source": [
    "plt.figure(figsize=(10,6))\n",
    "Wage_Overall.plot(legend=True,fontsize=15)\n",
    "Value_Overall.plot(legend=True)\n",
    "plt.title(\"Does Overall ratings have an influence on wage and value?\",fontsize=17,fontweight='bold')\n",
    "plt.xlabel(\"Overall rating\", fontsize=14)\n",
    "plt.ylabel(\"Wage and Value\", fontsize=14)\n",
    "plt.legend(loc=2, prop={'size': 15}, frameon=True,shadow=True, facecolor=\"white\", edgecolor=\"black\")\n",
    "plt.show()"
   ]
  },
  {
   "cell_type": "markdown",
   "metadata": {},
   "source": [
    "###### Inference"
   ]
  },
  {
   "cell_type": "raw",
   "metadata": {},
   "source": [
    "1) Yes, Overall rating has an impact on Wage and Value. \n",
    "If the Overall rating goes above 70, Value of the player gradually increases\n",
    "If the Overall rating goes above 80, Wage of the player increases sharply"
   ]
  },
  {
   "cell_type": "markdown",
   "metadata": {},
   "source": [
    "### 4) b) Does Potential ratings have an influence on wage and value of the player?"
   ]
  },
  {
   "cell_type": "code",
   "execution_count": 1105,
   "metadata": {
    "collapsed": true
   },
   "outputs": [],
   "source": [
    "Wage_Potential = subset_df.groupby(['Potential'])['Wage'].mean()\n",
    "Value_Potential = subset_df.groupby(['Potential'])['Value'].mean()"
   ]
  },
  {
   "cell_type": "code",
   "execution_count": 1106,
   "metadata": {
    "collapsed": true
   },
   "outputs": [],
   "source": [
    "Wage_Potential = Wage_Potential.apply(lambda x: x/1000)\n",
    "Value_Potential = Value_Potential.apply(lambda x: x/1000000)"
   ]
  },
  {
   "cell_type": "code",
   "execution_count": 1280,
   "metadata": {
    "collapsed": false,
    "scrolled": true
   },
   "outputs": [
    {
     "data": {
      "image/png": "[encoded data removed]",
      "text/plain": [
       "<matplotlib.figure.Figure at 0xf9a7d9d30>"
      ]
     },
     "metadata": {},
     "output_type": "display_data"
    }
   ],
   "source": [
    "plt.figure(figsize=(10,6))\n",
    "Wage_Potential.plot(legend=True,fontsize=15)\n",
    "Value_Potential.plot(legend=True)\n",
    "plt.title(\"Does potential ratings have an influence on wage and value?\",fontsize=17,fontweight='bold')\n",
    "plt.xlabel(\"Potential rating\", fontsize=14)\n",
    "plt.ylabel(\"Wage and Value\", fontsize=14)\n",
    "plt.legend(loc=2, prop={'size': 15}, frameon=True,shadow=True, facecolor=\"white\", edgecolor=\"black\")\n",
    "plt.show()"
   ]
  },
  {
   "cell_type": "markdown",
   "metadata": {},
   "source": [
    "###### Inference"
   ]
  },
  {
   "cell_type": "raw",
   "metadata": {},
   "source": [
    "1) Yes, Potential rating also has an impact on Wage and Value. \n",
    "If the potential rating goes above 70, Wage sharply increases\n",
    "If the potential rating goes above 80, Value of the player also increases gradually"
   ]
  },
  {
   "cell_type": "markdown",
   "metadata": {},
   "source": [
    "### 5) Determining the average age of players in each club"
   ]
  },
  {
   "cell_type": "code",
   "execution_count": 1268,
   "metadata": {
    "collapsed": false
   },
   "outputs": [],
   "source": [
    "Avg_Age_in_each_club = subset_df.groupby(['Club'])['Age'].mean()"
   ]
  },
  {
   "cell_type": "code",
   "execution_count": 1271,
   "metadata": {
    "collapsed": false
   },
   "outputs": [],
   "source": [
    "Avg_Age_in_each_club = Avg_Age_in_each_club.rename_axis(('Club')).reset_index(name='Mean_Age_in_Each_club').sort_values('Mean_Age_in_Each_club')"
   ]
  },
  {
   "cell_type": "code",
   "execution_count": 1272,
   "metadata": {
    "collapsed": false
   },
   "outputs": [
    {
     "data": {
      "text/html": [
       "<div>\n",
       "<table border=\"1\" class=\"dataframe\">\n",
       "  <thead>\n",
       "    <tr style=\"text-align: right;\">\n",
       "      <th></th>\n",
       "      <th>Club</th>\n",
       "      <th>Mean_Age_in_Each_club</th>\n",
       "    </tr>\n",
       "  </thead>\n",
       "  <tbody>\n",
       "    <tr>\n",
       "      <th>0</th>\n",
       "      <td>Sevilla Atlético</td>\n",
       "      <td>19.793103</td>\n",
       "    </tr>\n",
       "    <tr>\n",
       "      <th>1</th>\n",
       "      <td>FC Barcelona B</td>\n",
       "      <td>20.379310</td>\n",
       "    </tr>\n",
       "    <tr>\n",
       "      <th>2</th>\n",
       "      <td>Werder Bremen II</td>\n",
       "      <td>21.400000</td>\n",
       "    </tr>\n",
       "    <tr>\n",
       "      <th>3</th>\n",
       "      <td>LOSC Lille</td>\n",
       "      <td>21.629630</td>\n",
       "    </tr>\n",
       "    <tr>\n",
       "      <th>4</th>\n",
       "      <td>Crewe Alexandra</td>\n",
       "      <td>21.884615</td>\n",
       "    </tr>\n",
       "    <tr>\n",
       "      <th>5</th>\n",
       "      <td>FC Nordsjælland</td>\n",
       "      <td>22.000000</td>\n",
       "    </tr>\n",
       "    <tr>\n",
       "      <th>6</th>\n",
       "      <td>Galway United</td>\n",
       "      <td>22.040000</td>\n",
       "    </tr>\n",
       "    <tr>\n",
       "      <th>7</th>\n",
       "      <td>Ajax</td>\n",
       "      <td>22.068966</td>\n",
       "    </tr>\n",
       "    <tr>\n",
       "      <th>8</th>\n",
       "      <td>Barnsley</td>\n",
       "      <td>22.100000</td>\n",
       "    </tr>\n",
       "    <tr>\n",
       "      <th>9</th>\n",
       "      <td>PSV</td>\n",
       "      <td>22.115385</td>\n",
       "    </tr>\n",
       "  </tbody>\n",
       "</table>\n",
       "</div>"
      ],
      "text/plain": [
       "               Club  Mean_Age_in_Each_club\n",
       "0  Sevilla Atlético              19.793103\n",
       "1    FC Barcelona B              20.379310\n",
       "2  Werder Bremen II              21.400000\n",
       "3        LOSC Lille              21.629630\n",
       "4   Crewe Alexandra              21.884615\n",
       "5   FC Nordsjælland              22.000000\n",
       "6     Galway United              22.040000\n",
       "7              Ajax              22.068966\n",
       "8          Barnsley              22.100000\n",
       "9               PSV              22.115385"
      ]
     },
     "execution_count": 1272,
     "metadata": {},
     "output_type": "execute_result"
    }
   ],
   "source": [
    "Avg_Age_in_each_club.head(10).reset_index(drop=True)"
   ]
  },
  {
   "cell_type": "code",
   "execution_count": 1273,
   "metadata": {
    "collapsed": false
   },
   "outputs": [
    {
     "data": {
      "text/plain": [
       "<matplotlib.figure.Figure at 0xf8bcdb6d8>"
      ]
     },
     "metadata": {},
     "output_type": "display_data"
    },
    {
     "data": {
      "image/png": "[encoded data removed]",
      "text/plain": [
       "<matplotlib.figure.Figure at 0xf8ba51860>"
      ]
     },
     "metadata": {},
     "output_type": "display_data"
    }
   ],
   "source": [
    "plt.figure(figsize=(10,6))\n",
    "Avg_Age_in_each_club.plot.box()\n",
    "plt.title('Variability of Average age of players', fontsize=18, fontweight='bold')\n",
    "plt.tick_params(labelsize=12)\n",
    "plt.ylabel('Age', fontsize=16)\n",
    "plt.show()"
   ]
  },
  {
   "cell_type": "markdown",
   "metadata": {},
   "source": [
    "### 6) View stats of your favorite club [FC Barcelona]"
   ]
  },
  {
   "cell_type": "code",
   "execution_count": 1112,
   "metadata": {
    "collapsed": false
   },
   "outputs": [
    {
     "data": {
      "text/plain": [
       "0         Real Madrid CF\n",
       "1           FC Barcelona\n",
       "2    Paris Saint-Germain\n",
       "3           FC Barcelona\n",
       "4       FC Bayern Munich\n",
       "Name: Club, dtype: object"
      ]
     },
     "execution_count": 1112,
     "metadata": {},
     "output_type": "execute_result"
    }
   ],
   "source": [
    "subset_df['Club'].head()"
   ]
  },
  {
   "cell_type": "code",
   "execution_count": 1113,
   "metadata": {
    "collapsed": true
   },
   "outputs": [],
   "source": [
    "ManU_Players = subset_df[subset_df['Club']==\"FC Barcelona\"]"
   ]
  },
  {
   "cell_type": "code",
   "execution_count": 1126,
   "metadata": {
    "collapsed": false,
    "scrolled": true
   },
   "outputs": [
    {
     "data": {
      "text/html": [
       "<div>\n",
       "<table border=\"1\" class=\"dataframe\">\n",
       "  <thead>\n",
       "    <tr style=\"text-align: right;\">\n",
       "      <th></th>\n",
       "      <th>Name</th>\n",
       "      <th>Age</th>\n",
       "      <th>Nationality</th>\n",
       "      <th>Overall</th>\n",
       "      <th>Wage</th>\n",
       "      <th>Potential</th>\n",
       "      <th>Club</th>\n",
       "      <th>Value</th>\n",
       "      <th>Preferred Positions</th>\n",
       "      <th>Growth</th>\n",
       "      <th>Wage(by Potential)</th>\n",
       "      <th>Value(by Potential)</th>\n",
       "    </tr>\n",
       "  </thead>\n",
       "  <tbody>\n",
       "    <tr>\n",
       "      <th>0</th>\n",
       "      <td>L. Messi</td>\n",
       "      <td>30</td>\n",
       "      <td>Argentina</td>\n",
       "      <td>93</td>\n",
       "      <td>565000.0</td>\n",
       "      <td>93</td>\n",
       "      <td>FC Barcelona</td>\n",
       "      <td>105000000.0</td>\n",
       "      <td>RW</td>\n",
       "      <td>0</td>\n",
       "      <td>565000.0</td>\n",
       "      <td>105000000.0</td>\n",
       "    </tr>\n",
       "    <tr>\n",
       "      <th>1</th>\n",
       "      <td>L. Suárez</td>\n",
       "      <td>30</td>\n",
       "      <td>Uruguay</td>\n",
       "      <td>92</td>\n",
       "      <td>510000.0</td>\n",
       "      <td>92</td>\n",
       "      <td>FC Barcelona</td>\n",
       "      <td>97000000.0</td>\n",
       "      <td>ST</td>\n",
       "      <td>0</td>\n",
       "      <td>510000.0</td>\n",
       "      <td>97000000.0</td>\n",
       "    </tr>\n",
       "    <tr>\n",
       "      <th>2</th>\n",
       "      <td>I. Rakitić</td>\n",
       "      <td>29</td>\n",
       "      <td>Croatia</td>\n",
       "      <td>87</td>\n",
       "      <td>275000.0</td>\n",
       "      <td>87</td>\n",
       "      <td>FC Barcelona</td>\n",
       "      <td>48500000.0</td>\n",
       "      <td>CM</td>\n",
       "      <td>0</td>\n",
       "      <td>275000.0</td>\n",
       "      <td>48500000.0</td>\n",
       "    </tr>\n",
       "    <tr>\n",
       "      <th>3</th>\n",
       "      <td>Iniesta</td>\n",
       "      <td>33</td>\n",
       "      <td>Spain</td>\n",
       "      <td>87</td>\n",
       "      <td>260000.0</td>\n",
       "      <td>87</td>\n",
       "      <td>FC Barcelona</td>\n",
       "      <td>29500000.0</td>\n",
       "      <td>LM CM</td>\n",
       "      <td>0</td>\n",
       "      <td>260000.0</td>\n",
       "      <td>29500000.0</td>\n",
       "    </tr>\n",
       "    <tr>\n",
       "      <th>4</th>\n",
       "      <td>Sergio Busquets</td>\n",
       "      <td>28</td>\n",
       "      <td>Spain</td>\n",
       "      <td>86</td>\n",
       "      <td>250000.0</td>\n",
       "      <td>86</td>\n",
       "      <td>FC Barcelona</td>\n",
       "      <td>36000000.0</td>\n",
       "      <td>CM CDM</td>\n",
       "      <td>0</td>\n",
       "      <td>250000.0</td>\n",
       "      <td>36000000.0</td>\n",
       "    </tr>\n",
       "    <tr>\n",
       "      <th>5</th>\n",
       "      <td>Piqué</td>\n",
       "      <td>30</td>\n",
       "      <td>Spain</td>\n",
       "      <td>87</td>\n",
       "      <td>240000.0</td>\n",
       "      <td>87</td>\n",
       "      <td>FC Barcelona</td>\n",
       "      <td>37500000.0</td>\n",
       "      <td>CB</td>\n",
       "      <td>0</td>\n",
       "      <td>240000.0</td>\n",
       "      <td>37500000.0</td>\n",
       "    </tr>\n",
       "    <tr>\n",
       "      <th>6</th>\n",
       "      <td>Jordi Alba</td>\n",
       "      <td>28</td>\n",
       "      <td>Spain</td>\n",
       "      <td>85</td>\n",
       "      <td>215000.0</td>\n",
       "      <td>85</td>\n",
       "      <td>FC Barcelona</td>\n",
       "      <td>30500000.0</td>\n",
       "      <td>LB</td>\n",
       "      <td>0</td>\n",
       "      <td>215000.0</td>\n",
       "      <td>30500000.0</td>\n",
       "    </tr>\n",
       "    <tr>\n",
       "      <th>7</th>\n",
       "      <td>A. Turan</td>\n",
       "      <td>30</td>\n",
       "      <td>Turkey</td>\n",
       "      <td>82</td>\n",
       "      <td>170000.0</td>\n",
       "      <td>82</td>\n",
       "      <td>FC Barcelona</td>\n",
       "      <td>20500000.0</td>\n",
       "      <td>LW RW CM</td>\n",
       "      <td>0</td>\n",
       "      <td>170000.0</td>\n",
       "      <td>20500000.0</td>\n",
       "    </tr>\n",
       "    <tr>\n",
       "      <th>8</th>\n",
       "      <td>Paulinho</td>\n",
       "      <td>28</td>\n",
       "      <td>Brazil</td>\n",
       "      <td>81</td>\n",
       "      <td>165000.0</td>\n",
       "      <td>81</td>\n",
       "      <td>FC Barcelona</td>\n",
       "      <td>17500000.0</td>\n",
       "      <td>CDM CM</td>\n",
       "      <td>0</td>\n",
       "      <td>165000.0</td>\n",
       "      <td>17500000.0</td>\n",
       "    </tr>\n",
       "    <tr>\n",
       "      <th>9</th>\n",
       "      <td>Deulofeu</td>\n",
       "      <td>23</td>\n",
       "      <td>Spain</td>\n",
       "      <td>82</td>\n",
       "      <td>165000.0</td>\n",
       "      <td>89</td>\n",
       "      <td>FC Barcelona</td>\n",
       "      <td>31000000.0</td>\n",
       "      <td>RW LW</td>\n",
       "      <td>7</td>\n",
       "      <td>165000.0</td>\n",
       "      <td>31000000.0</td>\n",
       "    </tr>\n",
       "  </tbody>\n",
       "</table>\n",
       "</div>"
      ],
      "text/plain": [
       "              Name  Age Nationality  Overall      Wage  Potential  \\\n",
       "0         L. Messi   30   Argentina       93  565000.0         93   \n",
       "1        L. Suárez   30     Uruguay       92  510000.0         92   \n",
       "2       I. Rakitić   29     Croatia       87  275000.0         87   \n",
       "3          Iniesta   33       Spain       87  260000.0         87   \n",
       "4  Sergio Busquets   28       Spain       86  250000.0         86   \n",
       "5            Piqué   30       Spain       87  240000.0         87   \n",
       "6       Jordi Alba   28       Spain       85  215000.0         85   \n",
       "7         A. Turan   30      Turkey       82  170000.0         82   \n",
       "8         Paulinho   28      Brazil       81  165000.0         81   \n",
       "9         Deulofeu   23       Spain       82  165000.0         89   \n",
       "\n",
       "           Club        Value Preferred Positions  Growth  Wage(by Potential)  \\\n",
       "0  FC Barcelona  105000000.0                 RW        0            565000.0   \n",
       "1  FC Barcelona   97000000.0                 ST        0            510000.0   \n",
       "2  FC Barcelona   48500000.0                 CM        0            275000.0   \n",
       "3  FC Barcelona   29500000.0              LM CM        0            260000.0   \n",
       "4  FC Barcelona   36000000.0             CM CDM        0            250000.0   \n",
       "5  FC Barcelona   37500000.0                 CB        0            240000.0   \n",
       "6  FC Barcelona   30500000.0                 LB        0            215000.0   \n",
       "7  FC Barcelona   20500000.0           LW RW CM        0            170000.0   \n",
       "8  FC Barcelona   17500000.0             CDM CM        0            165000.0   \n",
       "9  FC Barcelona   31000000.0              RW LW        7            165000.0   \n",
       "\n",
       "   Value(by Potential)  \n",
       "0          105000000.0  \n",
       "1           97000000.0  \n",
       "2           48500000.0  \n",
       "3           29500000.0  \n",
       "4           36000000.0  \n",
       "5           37500000.0  \n",
       "6           30500000.0  \n",
       "7           20500000.0  \n",
       "8           17500000.0  \n",
       "9           31000000.0  "
      ]
     },
     "execution_count": 1126,
     "metadata": {},
     "output_type": "execute_result"
    }
   ],
   "source": [
    "ManU_Players.sort_values('Wage',ascending=False).head(10).reset_index(drop=True)"
   ]
  },
  {
   "cell_type": "markdown",
   "metadata": {},
   "source": [
    "### 7) Teams that have highest expenditures in terms of wages to players"
   ]
  },
  {
   "cell_type": "code",
   "execution_count": 1277,
   "metadata": {
    "collapsed": false,
    "scrolled": true
   },
   "outputs": [
    {
     "data": {
      "image/png": "[encoded data removed]",
      "text/plain": [
       "<matplotlib.figure.Figure at 0xf93c83fd0>"
      ]
     },
     "metadata": {},
     "output_type": "display_data"
    }
   ],
   "source": [
    "plt.figure(figsize=(12,6))\n",
    "subset_df.groupby(['Club'])['Wage'].mean().sort_values(ascending=False).head(10).plot(kind='barh',color=['yellowgreen'])\n",
    "plt.title(\"Clubs expenditures (wages) on players\",fontsize=15,fontweight='bold')\n",
    "plt.xlabel(\"Mean Wages\",fontsize=15)\n",
    "plt.tick_params(labelsize=12)\n",
    "plt.ylabel(\"Clubs\",fontsize=15)\n",
    "plt.show()"
   ]
  },
  {
   "cell_type": "markdown",
   "metadata": {},
   "source": [
    "###### Inference"
   ]
  },
  {
   "cell_type": "markdown",
   "metadata": {},
   "source": [
    "FC Barcelona pays the most(190,000) in terms of meang wages to the players amongst all the clubs which is then followed by Read Madrid CF. However in the above analysis, we see that Messi and Suarez are paid very high wages which skews the mean wages for this club."
   ]
  },
  {
   "cell_type": "markdown",
   "metadata": {},
   "source": [
    "### 8) Players that get the highest wages"
   ]
  },
  {
   "cell_type": "code",
   "execution_count": 1122,
   "metadata": {
    "collapsed": false
   },
   "outputs": [],
   "source": [
    "Highest_wages = subset_df.sort_values('Wage',ascending=False).head(15)"
   ]
  },
  {
   "cell_type": "code",
   "execution_count": 1125,
   "metadata": {
    "collapsed": false
   },
   "outputs": [
    {
     "data": {
      "text/html": [
       "<div>\n",
       "<table border=\"1\" class=\"dataframe\">\n",
       "  <thead>\n",
       "    <tr style=\"text-align: right;\">\n",
       "      <th></th>\n",
       "      <th>Name</th>\n",
       "      <th>Club</th>\n",
       "      <th>Wage</th>\n",
       "      <th>Value</th>\n",
       "      <th>Overall</th>\n",
       "      <th>Potential</th>\n",
       "      <th>Preferred Positions</th>\n",
       "    </tr>\n",
       "  </thead>\n",
       "  <tbody>\n",
       "    <tr>\n",
       "      <th>0</th>\n",
       "      <td>Cristiano Ronaldo</td>\n",
       "      <td>Real Madrid CF</td>\n",
       "      <td>565000.0</td>\n",
       "      <td>95500000.0</td>\n",
       "      <td>94</td>\n",
       "      <td>94</td>\n",
       "      <td>ST LW</td>\n",
       "    </tr>\n",
       "    <tr>\n",
       "      <th>1</th>\n",
       "      <td>L. Messi</td>\n",
       "      <td>FC Barcelona</td>\n",
       "      <td>565000.0</td>\n",
       "      <td>105000000.0</td>\n",
       "      <td>93</td>\n",
       "      <td>93</td>\n",
       "      <td>RW</td>\n",
       "    </tr>\n",
       "    <tr>\n",
       "      <th>2</th>\n",
       "      <td>L. Suárez</td>\n",
       "      <td>FC Barcelona</td>\n",
       "      <td>510000.0</td>\n",
       "      <td>97000000.0</td>\n",
       "      <td>92</td>\n",
       "      <td>92</td>\n",
       "      <td>ST</td>\n",
       "    </tr>\n",
       "    <tr>\n",
       "      <th>3</th>\n",
       "      <td>G. Bale</td>\n",
       "      <td>Real Madrid CF</td>\n",
       "      <td>370000.0</td>\n",
       "      <td>69500000.0</td>\n",
       "      <td>89</td>\n",
       "      <td>89</td>\n",
       "      <td>RW</td>\n",
       "    </tr>\n",
       "    <tr>\n",
       "      <th>4</th>\n",
       "      <td>R. Lewandowski</td>\n",
       "      <td>FC Bayern Munich</td>\n",
       "      <td>355000.0</td>\n",
       "      <td>92000000.0</td>\n",
       "      <td>91</td>\n",
       "      <td>91</td>\n",
       "      <td>ST</td>\n",
       "    </tr>\n",
       "    <tr>\n",
       "      <th>5</th>\n",
       "      <td>L. Modrić</td>\n",
       "      <td>Real Madrid CF</td>\n",
       "      <td>340000.0</td>\n",
       "      <td>57000000.0</td>\n",
       "      <td>89</td>\n",
       "      <td>89</td>\n",
       "      <td>CDM CM</td>\n",
       "    </tr>\n",
       "    <tr>\n",
       "      <th>6</th>\n",
       "      <td>T. Kroos</td>\n",
       "      <td>Real Madrid CF</td>\n",
       "      <td>340000.0</td>\n",
       "      <td>79000000.0</td>\n",
       "      <td>90</td>\n",
       "      <td>90</td>\n",
       "      <td>CDM CM</td>\n",
       "    </tr>\n",
       "    <tr>\n",
       "      <th>7</th>\n",
       "      <td>S. Agüero</td>\n",
       "      <td>Manchester City</td>\n",
       "      <td>325000.0</td>\n",
       "      <td>66500000.0</td>\n",
       "      <td>89</td>\n",
       "      <td>89</td>\n",
       "      <td>ST</td>\n",
       "    </tr>\n",
       "    <tr>\n",
       "      <th>8</th>\n",
       "      <td>Sergio Ramos</td>\n",
       "      <td>Real Madrid CF</td>\n",
       "      <td>310000.0</td>\n",
       "      <td>52000000.0</td>\n",
       "      <td>90</td>\n",
       "      <td>90</td>\n",
       "      <td>CB</td>\n",
       "    </tr>\n",
       "    <tr>\n",
       "      <th>9</th>\n",
       "      <td>K. Benzema</td>\n",
       "      <td>Real Madrid CF</td>\n",
       "      <td>295000.0</td>\n",
       "      <td>44500000.0</td>\n",
       "      <td>86</td>\n",
       "      <td>86</td>\n",
       "      <td>ST</td>\n",
       "    </tr>\n",
       "    <tr>\n",
       "      <th>10</th>\n",
       "      <td>E. Hazard</td>\n",
       "      <td>Chelsea</td>\n",
       "      <td>295000.0</td>\n",
       "      <td>90500000.0</td>\n",
       "      <td>90</td>\n",
       "      <td>91</td>\n",
       "      <td>LW</td>\n",
       "    </tr>\n",
       "    <tr>\n",
       "      <th>11</th>\n",
       "      <td>K. De Bruyne</td>\n",
       "      <td>Manchester City</td>\n",
       "      <td>285000.0</td>\n",
       "      <td>83000000.0</td>\n",
       "      <td>89</td>\n",
       "      <td>92</td>\n",
       "      <td>RM CM CAM</td>\n",
       "    </tr>\n",
       "    <tr>\n",
       "      <th>12</th>\n",
       "      <td>Neymar</td>\n",
       "      <td>Paris Saint-Germain</td>\n",
       "      <td>280000.0</td>\n",
       "      <td>123000000.0</td>\n",
       "      <td>92</td>\n",
       "      <td>94</td>\n",
       "      <td>LW</td>\n",
       "    </tr>\n",
       "    <tr>\n",
       "      <th>13</th>\n",
       "      <td>G. Higuaín</td>\n",
       "      <td>Juventus</td>\n",
       "      <td>275000.0</td>\n",
       "      <td>77000000.0</td>\n",
       "      <td>90</td>\n",
       "      <td>90</td>\n",
       "      <td>ST</td>\n",
       "    </tr>\n",
       "    <tr>\n",
       "      <th>14</th>\n",
       "      <td>I. Rakitić</td>\n",
       "      <td>FC Barcelona</td>\n",
       "      <td>275000.0</td>\n",
       "      <td>48500000.0</td>\n",
       "      <td>87</td>\n",
       "      <td>87</td>\n",
       "      <td>CM</td>\n",
       "    </tr>\n",
       "  </tbody>\n",
       "</table>\n",
       "</div>"
      ],
      "text/plain": [
       "                 Name                 Club      Wage        Value  Overall  \\\n",
       "0   Cristiano Ronaldo       Real Madrid CF  565000.0   95500000.0       94   \n",
       "1            L. Messi         FC Barcelona  565000.0  105000000.0       93   \n",
       "2           L. Suárez         FC Barcelona  510000.0   97000000.0       92   \n",
       "3             G. Bale       Real Madrid CF  370000.0   69500000.0       89   \n",
       "4      R. Lewandowski     FC Bayern Munich  355000.0   92000000.0       91   \n",
       "5           L. Modrić       Real Madrid CF  340000.0   57000000.0       89   \n",
       "6            T. Kroos       Real Madrid CF  340000.0   79000000.0       90   \n",
       "7           S. Agüero      Manchester City  325000.0   66500000.0       89   \n",
       "8        Sergio Ramos       Real Madrid CF  310000.0   52000000.0       90   \n",
       "9          K. Benzema       Real Madrid CF  295000.0   44500000.0       86   \n",
       "10          E. Hazard              Chelsea  295000.0   90500000.0       90   \n",
       "11       K. De Bruyne      Manchester City  285000.0   83000000.0       89   \n",
       "12             Neymar  Paris Saint-Germain  280000.0  123000000.0       92   \n",
       "13         G. Higuaín             Juventus  275000.0   77000000.0       90   \n",
       "14         I. Rakitić         FC Barcelona  275000.0   48500000.0       87   \n",
       "\n",
       "    Potential Preferred Positions  \n",
       "0          94              ST LW   \n",
       "1          93                 RW   \n",
       "2          92                 ST   \n",
       "3          89                 RW   \n",
       "4          91                 ST   \n",
       "5          89             CDM CM   \n",
       "6          90             CDM CM   \n",
       "7          89                 ST   \n",
       "8          90                 CB   \n",
       "9          86                 ST   \n",
       "10         91                 LW   \n",
       "11         92          RM CM CAM   \n",
       "12         94                 LW   \n",
       "13         90                 ST   \n",
       "14         87                 CM   "
      ]
     },
     "execution_count": 1125,
     "metadata": {},
     "output_type": "execute_result"
    }
   ],
   "source": [
    "Highest_wages[['Name','Club','Wage','Value','Overall','Potential','Preferred Positions']].reset_index(drop=True)"
   ]
  },
  {
   "cell_type": "markdown",
   "metadata": {},
   "source": [
    "###### Inference"
   ]
  },
  {
   "cell_type": "markdown",
   "metadata": {},
   "source": [
    "The top 10 players have their overall rating same as their potential ratings which means they have reached their maximum potential rating. "
   ]
  },
  {
   "cell_type": "markdown",
   "metadata": {},
   "source": [
    "### 9) Countries that have the most number of players"
   ]
  },
  {
   "cell_type": "code",
   "execution_count": 1278,
   "metadata": {
    "collapsed": false
   },
   "outputs": [
    {
     "data": {
      "image/png": "[encoded data removed]",
      "text/plain": [
       "<matplotlib.figure.Figure at 0xf949660f0>"
      ]
     },
     "metadata": {},
     "output_type": "display_data"
    }
   ],
   "source": [
    "plt.figure(figsize=(12,6))\n",
    "subset_df.groupby(['Nationality']).Name.count().sort_values(ascending=False).head(10).plot(kind=\"barh\",color='yellowgreen')\n",
    "plt.title(\"Countries having most number of players\",fontsize=15,fontweight='bold')\n",
    "plt.xlabel(\"Number of players\",fontsize=15)\n",
    "plt.tick_params(labelsize=12)\n",
    "plt.ylabel(\"Country\",fontsize=15)\n",
    "plt.show()"
   ]
  },
  {
   "cell_type": "markdown",
   "metadata": {},
   "source": [
    "### 10) Most Powerful teams"
   ]
  },
  {
   "cell_type": "markdown",
   "metadata": {},
   "source": [
    "###### Most Powerful teams based on overall rating"
   ]
  },
  {
   "cell_type": "code",
   "execution_count": 1130,
   "metadata": {
    "collapsed": false
   },
   "outputs": [
    {
     "data": {
      "text/plain": [
       "Club\n",
       "FC Barcelona           82.560000\n",
       "Juventus               81.653846\n",
       "Real Madrid CF         81.038462\n",
       "FC Bayern Munich       79.423077\n",
       "Paris Saint-Germain    77.964286\n",
       "Manchester United      77.705882\n",
       "Napoli                 77.653846\n",
       "Roma                   77.370370\n",
       "Sevilla FC             76.961538\n",
       "Inter                  76.720000\n",
       "Chelsea                76.666667\n",
       "Sporting CP            76.281250\n",
       "FC Porto               76.096774\n",
       "Atlético Madrid        75.875000\n",
       "Liverpool              75.875000\n",
       "Name: Overall, dtype: float64"
      ]
     },
     "execution_count": 1130,
     "metadata": {},
     "output_type": "execute_result"
    }
   ],
   "source": [
    "subset_df.groupby(['Club'])['Overall'].mean().sort_values(ascending=False).head(15)"
   ]
  },
  {
   "cell_type": "markdown",
   "metadata": {},
   "source": [
    "###### Most Powerful teams based on Potential rating"
   ]
  },
  {
   "cell_type": "code",
   "execution_count": 1131,
   "metadata": {
    "collapsed": false
   },
   "outputs": [
    {
     "data": {
      "text/plain": [
       "Club\n",
       "Real Madrid CF         85.961538\n",
       "FC Barcelona           85.560000\n",
       "FC Bayern Munich       84.500000\n",
       "Juventus               84.038462\n",
       "Paris Saint-Germain    83.357143\n",
       "Manchester United      83.235294\n",
       "Chelsea                82.606061\n",
       "Manchester City        82.363636\n",
       "Liverpool              82.031250\n",
       "Atlético Madrid        81.968750\n",
       "Napoli                 81.961538\n",
       "Borussia Dortmund      81.705882\n",
       "Arsenal                81.636364\n",
       "Tottenham Hotspur      81.562500\n",
       "Milan                  81.275862\n",
       "Name: Potential, dtype: float64"
      ]
     },
     "execution_count": 1131,
     "metadata": {},
     "output_type": "execute_result"
    }
   ],
   "source": [
    "subset_df.groupby(['Club'])['Potential'].mean().sort_values(ascending=False).head(15)"
   ]
  },
  {
   "cell_type": "markdown",
   "metadata": {},
   "source": [
    "### 11) Top players based on Overall Rating"
   ]
  },
  {
   "cell_type": "code",
   "execution_count": 1138,
   "metadata": {
    "collapsed": false
   },
   "outputs": [
    {
     "data": {
      "text/html": [
       "<div>\n",
       "<table border=\"1\" class=\"dataframe\">\n",
       "  <thead>\n",
       "    <tr style=\"text-align: right;\">\n",
       "      <th></th>\n",
       "      <th>Name</th>\n",
       "      <th>Age</th>\n",
       "      <th>Nationality</th>\n",
       "      <th>Overall</th>\n",
       "      <th>Wage</th>\n",
       "      <th>Potential</th>\n",
       "      <th>Club</th>\n",
       "      <th>Value</th>\n",
       "      <th>Preferred Positions</th>\n",
       "      <th>Growth</th>\n",
       "      <th>Wage(by Potential)</th>\n",
       "      <th>Value(by Potential)</th>\n",
       "    </tr>\n",
       "  </thead>\n",
       "  <tbody>\n",
       "    <tr>\n",
       "      <th>0</th>\n",
       "      <td>Cristiano Ronaldo</td>\n",
       "      <td>32</td>\n",
       "      <td>Portugal</td>\n",
       "      <td>94</td>\n",
       "      <td>565000.0</td>\n",
       "      <td>94</td>\n",
       "      <td>Real Madrid CF</td>\n",
       "      <td>95500000.0</td>\n",
       "      <td>ST LW</td>\n",
       "      <td>0</td>\n",
       "      <td>565000.0</td>\n",
       "      <td>95500000.0</td>\n",
       "    </tr>\n",
       "    <tr>\n",
       "      <th>1</th>\n",
       "      <td>L. Messi</td>\n",
       "      <td>30</td>\n",
       "      <td>Argentina</td>\n",
       "      <td>93</td>\n",
       "      <td>565000.0</td>\n",
       "      <td>93</td>\n",
       "      <td>FC Barcelona</td>\n",
       "      <td>105000000.0</td>\n",
       "      <td>RW</td>\n",
       "      <td>0</td>\n",
       "      <td>565000.0</td>\n",
       "      <td>105000000.0</td>\n",
       "    </tr>\n",
       "    <tr>\n",
       "      <th>2</th>\n",
       "      <td>Neymar</td>\n",
       "      <td>25</td>\n",
       "      <td>Brazil</td>\n",
       "      <td>92</td>\n",
       "      <td>280000.0</td>\n",
       "      <td>94</td>\n",
       "      <td>Paris Saint-Germain</td>\n",
       "      <td>123000000.0</td>\n",
       "      <td>LW</td>\n",
       "      <td>2</td>\n",
       "      <td>280000.0</td>\n",
       "      <td>123000000.0</td>\n",
       "    </tr>\n",
       "    <tr>\n",
       "      <th>3</th>\n",
       "      <td>L. Suárez</td>\n",
       "      <td>30</td>\n",
       "      <td>Uruguay</td>\n",
       "      <td>92</td>\n",
       "      <td>510000.0</td>\n",
       "      <td>92</td>\n",
       "      <td>FC Barcelona</td>\n",
       "      <td>97000000.0</td>\n",
       "      <td>ST</td>\n",
       "      <td>0</td>\n",
       "      <td>510000.0</td>\n",
       "      <td>97000000.0</td>\n",
       "    </tr>\n",
       "    <tr>\n",
       "      <th>4</th>\n",
       "      <td>M. Neuer</td>\n",
       "      <td>31</td>\n",
       "      <td>Germany</td>\n",
       "      <td>92</td>\n",
       "      <td>230000.0</td>\n",
       "      <td>92</td>\n",
       "      <td>FC Bayern Munich</td>\n",
       "      <td>61000000.0</td>\n",
       "      <td>GK</td>\n",
       "      <td>0</td>\n",
       "      <td>230000.0</td>\n",
       "      <td>61000000.0</td>\n",
       "    </tr>\n",
       "    <tr>\n",
       "      <th>5</th>\n",
       "      <td>R. Lewandowski</td>\n",
       "      <td>28</td>\n",
       "      <td>Poland</td>\n",
       "      <td>91</td>\n",
       "      <td>355000.0</td>\n",
       "      <td>91</td>\n",
       "      <td>FC Bayern Munich</td>\n",
       "      <td>92000000.0</td>\n",
       "      <td>ST</td>\n",
       "      <td>0</td>\n",
       "      <td>355000.0</td>\n",
       "      <td>92000000.0</td>\n",
       "    </tr>\n",
       "    <tr>\n",
       "      <th>6</th>\n",
       "      <td>De Gea</td>\n",
       "      <td>26</td>\n",
       "      <td>Spain</td>\n",
       "      <td>90</td>\n",
       "      <td>215000.0</td>\n",
       "      <td>92</td>\n",
       "      <td>Manchester United</td>\n",
       "      <td>64500000.0</td>\n",
       "      <td>GK</td>\n",
       "      <td>2</td>\n",
       "      <td>215000.0</td>\n",
       "      <td>64500000.0</td>\n",
       "    </tr>\n",
       "    <tr>\n",
       "      <th>7</th>\n",
       "      <td>E. Hazard</td>\n",
       "      <td>26</td>\n",
       "      <td>Belgium</td>\n",
       "      <td>90</td>\n",
       "      <td>295000.0</td>\n",
       "      <td>91</td>\n",
       "      <td>Chelsea</td>\n",
       "      <td>90500000.0</td>\n",
       "      <td>LW</td>\n",
       "      <td>1</td>\n",
       "      <td>295000.0</td>\n",
       "      <td>90500000.0</td>\n",
       "    </tr>\n",
       "    <tr>\n",
       "      <th>8</th>\n",
       "      <td>T. Kroos</td>\n",
       "      <td>27</td>\n",
       "      <td>Germany</td>\n",
       "      <td>90</td>\n",
       "      <td>340000.0</td>\n",
       "      <td>90</td>\n",
       "      <td>Real Madrid CF</td>\n",
       "      <td>79000000.0</td>\n",
       "      <td>CDM CM</td>\n",
       "      <td>0</td>\n",
       "      <td>340000.0</td>\n",
       "      <td>79000000.0</td>\n",
       "    </tr>\n",
       "    <tr>\n",
       "      <th>9</th>\n",
       "      <td>G. Higuaín</td>\n",
       "      <td>29</td>\n",
       "      <td>Argentina</td>\n",
       "      <td>90</td>\n",
       "      <td>275000.0</td>\n",
       "      <td>90</td>\n",
       "      <td>Juventus</td>\n",
       "      <td>77000000.0</td>\n",
       "      <td>ST</td>\n",
       "      <td>0</td>\n",
       "      <td>275000.0</td>\n",
       "      <td>77000000.0</td>\n",
       "    </tr>\n",
       "  </tbody>\n",
       "</table>\n",
       "</div>"
      ],
      "text/plain": [
       "                Name  Age Nationality  Overall      Wage  Potential  \\\n",
       "0  Cristiano Ronaldo   32    Portugal       94  565000.0         94   \n",
       "1           L. Messi   30   Argentina       93  565000.0         93   \n",
       "2             Neymar   25      Brazil       92  280000.0         94   \n",
       "3          L. Suárez   30     Uruguay       92  510000.0         92   \n",
       "4           M. Neuer   31     Germany       92  230000.0         92   \n",
       "5     R. Lewandowski   28      Poland       91  355000.0         91   \n",
       "6             De Gea   26       Spain       90  215000.0         92   \n",
       "7          E. Hazard   26     Belgium       90  295000.0         91   \n",
       "8           T. Kroos   27     Germany       90  340000.0         90   \n",
       "9         G. Higuaín   29   Argentina       90  275000.0         90   \n",
       "\n",
       "                  Club        Value Preferred Positions  Growth  \\\n",
       "0       Real Madrid CF   95500000.0              ST LW        0   \n",
       "1         FC Barcelona  105000000.0                 RW        0   \n",
       "2  Paris Saint-Germain  123000000.0                 LW        2   \n",
       "3         FC Barcelona   97000000.0                 ST        0   \n",
       "4     FC Bayern Munich   61000000.0                 GK        0   \n",
       "5     FC Bayern Munich   92000000.0                 ST        0   \n",
       "6    Manchester United   64500000.0                 GK        2   \n",
       "7              Chelsea   90500000.0                 LW        1   \n",
       "8       Real Madrid CF   79000000.0             CDM CM        0   \n",
       "9             Juventus   77000000.0                 ST        0   \n",
       "\n",
       "   Wage(by Potential)  Value(by Potential)  \n",
       "0            565000.0           95500000.0  \n",
       "1            565000.0          105000000.0  \n",
       "2            280000.0          123000000.0  \n",
       "3            510000.0           97000000.0  \n",
       "4            230000.0           61000000.0  \n",
       "5            355000.0           92000000.0  \n",
       "6            215000.0           64500000.0  \n",
       "7            295000.0           90500000.0  \n",
       "8            340000.0           79000000.0  \n",
       "9            275000.0           77000000.0  "
      ]
     },
     "execution_count": 1138,
     "metadata": {},
     "output_type": "execute_result"
    }
   ],
   "source": [
    "subset_df.sort_values('Overall',ascending=False).head(10)"
   ]
  },
  {
   "cell_type": "markdown",
   "metadata": {},
   "source": [
    "### 12) Does Age have influence in Overall Rating?"
   ]
  },
  {
   "cell_type": "code",
   "execution_count": 1283,
   "metadata": {
    "collapsed": false
   },
   "outputs": [
    {
     "data": {
      "image/png": "[encoded data removed]",
      "text/plain": [
       "<matplotlib.figure.Figure at 0xf94914a90>"
      ]
     },
     "metadata": {},
     "output_type": "display_data"
    }
   ],
   "source": [
    "plt.figure(figsize=(10,6))\n",
    "subset_df.groupby(['Age'])['Overall'].mean().plot(title=\"Age vs Overall Ratings\", legend=True)\n",
    "plt.title(\"Does Age have an influence in Overall rating?\",fontsize=17,fontweight='bold')\n",
    "plt.xlabel(\"Age\", fontsize=14)\n",
    "plt.ylabel(\"Overall Rating\", fontsize=14)\n",
    "plt.tick_params(labelsize=12)\n",
    "plt.legend(loc=2, prop={'size': 15}, frameon=True,shadow=True, facecolor=\"white\", edgecolor=\"black\")\n",
    "plt.show()"
   ]
  },
  {
   "cell_type": "code",
   "execution_count": 1137,
   "metadata": {
    "collapsed": false
   },
   "outputs": [
    {
     "data": {
      "text/html": [
       "<div>\n",
       "<table border=\"1\" class=\"dataframe\">\n",
       "  <thead>\n",
       "    <tr style=\"text-align: right;\">\n",
       "      <th></th>\n",
       "      <th>Name</th>\n",
       "      <th>Age</th>\n",
       "      <th>Nationality</th>\n",
       "      <th>Overall</th>\n",
       "      <th>Wage</th>\n",
       "      <th>Potential</th>\n",
       "      <th>Club</th>\n",
       "      <th>Value</th>\n",
       "      <th>Preferred Positions</th>\n",
       "      <th>Growth</th>\n",
       "      <th>Wage(by Potential)</th>\n",
       "      <th>Value(by Potential)</th>\n",
       "    </tr>\n",
       "  </thead>\n",
       "  <tbody>\n",
       "    <tr>\n",
       "      <th>0</th>\n",
       "      <td>O. Pérez</td>\n",
       "      <td>44</td>\n",
       "      <td>Mexico</td>\n",
       "      <td>71</td>\n",
       "      <td>9000.0</td>\n",
       "      <td>71</td>\n",
       "      <td>Pachuca</td>\n",
       "      <td>160000.0</td>\n",
       "      <td>GK</td>\n",
       "      <td>0</td>\n",
       "      <td>9000.0</td>\n",
       "      <td>160000.0</td>\n",
       "    </tr>\n",
       "    <tr>\n",
       "      <th>1</th>\n",
       "      <td>E. El Hadary</td>\n",
       "      <td>44</td>\n",
       "      <td>Egypt</td>\n",
       "      <td>70</td>\n",
       "      <td>7000.0</td>\n",
       "      <td>70</td>\n",
       "      <td>Al Taawoun</td>\n",
       "      <td>120000.0</td>\n",
       "      <td>GK</td>\n",
       "      <td>0</td>\n",
       "      <td>7000.0</td>\n",
       "      <td>120000.0</td>\n",
       "    </tr>\n",
       "    <tr>\n",
       "      <th>2</th>\n",
       "      <td>Quim</td>\n",
       "      <td>41</td>\n",
       "      <td>Portugal</td>\n",
       "      <td>69</td>\n",
       "      <td>3000.0</td>\n",
       "      <td>69</td>\n",
       "      <td>CD Aves</td>\n",
       "      <td>70000.0</td>\n",
       "      <td>GK</td>\n",
       "      <td>0</td>\n",
       "      <td>3000.0</td>\n",
       "      <td>70000.0</td>\n",
       "    </tr>\n",
       "    <tr>\n",
       "      <th>3</th>\n",
       "      <td>K. Wæhler</td>\n",
       "      <td>41</td>\n",
       "      <td>Norway</td>\n",
       "      <td>67</td>\n",
       "      <td>2000.0</td>\n",
       "      <td>67</td>\n",
       "      <td>Sogndal</td>\n",
       "      <td>0.0</td>\n",
       "      <td>CB</td>\n",
       "      <td>0</td>\n",
       "      <td>2000.0</td>\n",
       "      <td>0.0</td>\n",
       "    </tr>\n",
       "    <tr>\n",
       "      <th>4</th>\n",
       "      <td>C. Day</td>\n",
       "      <td>41</td>\n",
       "      <td>England</td>\n",
       "      <td>57</td>\n",
       "      <td>1000.0</td>\n",
       "      <td>57</td>\n",
       "      <td>Stevenage</td>\n",
       "      <td>10000.0</td>\n",
       "      <td>GK</td>\n",
       "      <td>0</td>\n",
       "      <td>1000.0</td>\n",
       "      <td>10000.0</td>\n",
       "    </tr>\n",
       "    <tr>\n",
       "      <th>5</th>\n",
       "      <td>D. Coyne</td>\n",
       "      <td>43</td>\n",
       "      <td>Wales</td>\n",
       "      <td>55</td>\n",
       "      <td>1000.0</td>\n",
       "      <td>55</td>\n",
       "      <td>Shrewsbury</td>\n",
       "      <td>10000.0</td>\n",
       "      <td>GK</td>\n",
       "      <td>0</td>\n",
       "      <td>1000.0</td>\n",
       "      <td>10000.0</td>\n",
       "    </tr>\n",
       "    <tr>\n",
       "      <th>6</th>\n",
       "      <td>J. Walker</td>\n",
       "      <td>43</td>\n",
       "      <td>England</td>\n",
       "      <td>55</td>\n",
       "      <td>1000.0</td>\n",
       "      <td>55</td>\n",
       "      <td>Lincoln City</td>\n",
       "      <td>10000.0</td>\n",
       "      <td>GK</td>\n",
       "      <td>0</td>\n",
       "      <td>1000.0</td>\n",
       "      <td>10000.0</td>\n",
       "    </tr>\n",
       "    <tr>\n",
       "      <th>7</th>\n",
       "      <td>B. Richardson</td>\n",
       "      <td>47</td>\n",
       "      <td>England</td>\n",
       "      <td>46</td>\n",
       "      <td>1000.0</td>\n",
       "      <td>46</td>\n",
       "      <td>Wycombe Wanderers</td>\n",
       "      <td>0.0</td>\n",
       "      <td>GK</td>\n",
       "      <td>0</td>\n",
       "      <td>1000.0</td>\n",
       "      <td>0.0</td>\n",
       "    </tr>\n",
       "  </tbody>\n",
       "</table>\n",
       "</div>"
      ],
      "text/plain": [
       "            Name  Age Nationality  Overall    Wage  Potential  \\\n",
       "0       O. Pérez   44      Mexico       71  9000.0         71   \n",
       "1   E. El Hadary   44       Egypt       70  7000.0         70   \n",
       "2           Quim   41    Portugal       69  3000.0         69   \n",
       "3      K. Wæhler   41      Norway       67  2000.0         67   \n",
       "4         C. Day   41     England       57  1000.0         57   \n",
       "5       D. Coyne   43       Wales       55  1000.0         55   \n",
       "6      J. Walker   43     England       55  1000.0         55   \n",
       "7  B. Richardson   47     England       46  1000.0         46   \n",
       "\n",
       "                Club     Value Preferred Positions  Growth  \\\n",
       "0            Pachuca  160000.0                 GK        0   \n",
       "1         Al Taawoun  120000.0                 GK        0   \n",
       "2            CD Aves   70000.0                 GK        0   \n",
       "3            Sogndal       0.0                 CB        0   \n",
       "4          Stevenage   10000.0                 GK        0   \n",
       "5         Shrewsbury   10000.0                 GK        0   \n",
       "6       Lincoln City   10000.0                 GK        0   \n",
       "7  Wycombe Wanderers       0.0                 GK        0   \n",
       "\n",
       "   Wage(by Potential)  Value(by Potential)  \n",
       "0              9000.0             160000.0  \n",
       "1              7000.0             120000.0  \n",
       "2              3000.0              70000.0  \n",
       "3              2000.0                  0.0  \n",
       "4              1000.0              10000.0  \n",
       "5              1000.0              10000.0  \n",
       "6              1000.0              10000.0  \n",
       "7              1000.0                  0.0  "
      ]
     },
     "execution_count": 1137,
     "metadata": {},
     "output_type": "execute_result"
    }
   ],
   "source": [
    "# Let us see the spike in the overall rating after the age of 40 [Outliers]\n",
    "subset_df[subset_df['Age']>40].reset_index(drop=True)"
   ]
  },
  {
   "cell_type": "markdown",
   "metadata": {},
   "source": [
    "###### Inference"
   ]
  },
  {
   "cell_type": "markdown",
   "metadata": {},
   "source": [
    "Although few players who are aged more than 40 have fairly good rating, their Wage is very less compared to the players with the same overall rating"
   ]
  },
  {
   "cell_type": "markdown",
   "metadata": {},
   "source": [
    "### 13) Does Age have influence in Growth rating or the potential to grow as a better player?"
   ]
  },
  {
   "cell_type": "code",
   "execution_count": 1285,
   "metadata": {
    "collapsed": false
   },
   "outputs": [
    {
     "data": {
      "image/png": "[encoded data removed]",
      "text/plain": [
       "<matplotlib.figure.Figure at 0xf9a4220f0>"
      ]
     },
     "metadata": {},
     "output_type": "display_data"
    }
   ],
   "source": [
    "plt.figure(figsize=(10,6))\n",
    "subset_df.groupby(['Age'])['Growth'].mean().plot(title=\"Age vs Growth Rating\", legend=True)\n",
    "plt.title(\"Does Age have an influence in Growth rating?\",fontsize=17,fontweight='bold')\n",
    "plt.xlabel(\"Age\", fontsize=14)\n",
    "plt.ylabel(\"Growth Rating\", fontsize=14)\n",
    "plt.tick_params(labelsize=12)\n",
    "plt.legend(loc=1, prop={'size': 15}, frameon=True,shadow=True, facecolor=\"white\", edgecolor=\"black\")\n",
    "plt.show()"
   ]
  },
  {
   "cell_type": "markdown",
   "metadata": {},
   "source": [
    "##### Inference"
   ]
  },
  {
   "cell_type": "markdown",
   "metadata": {},
   "source": [
    "Younger players from 17 to 28 have high growth ratings"
   ]
  },
  {
   "cell_type": "markdown",
   "metadata": {},
   "source": [
    "### 14) Distribution of preferred positions"
   ]
  },
  {
   "cell_type": "code",
   "execution_count": 874,
   "metadata": {
    "collapsed": false
   },
   "outputs": [],
   "source": [
    "df_preferred_pos = subset_df['Preferred Positions'].str.split(' ',expand=False)"
   ]
  },
  {
   "cell_type": "code",
   "execution_count": 875,
   "metadata": {
    "collapsed": false
   },
   "outputs": [
    {
     "data": {
      "text/plain": [
       "array([['ST', 'LW', ''], ['RW', ''], ['LW', ''], ..., ['ST', ''],\n",
       "       ['CM', ''], ['ST', 'CB', '']], dtype=object)"
      ]
     },
     "execution_count": 875,
     "metadata": {},
     "output_type": "execute_result"
    }
   ],
   "source": [
    "df_preferred_pos.values"
   ]
  },
  {
   "cell_type": "code",
   "execution_count": 876,
   "metadata": {
    "collapsed": false
   },
   "outputs": [],
   "source": [
    "pp_list =[]\n",
    "for x in df_preferred_pos:\n",
    "    pp_list.extend(x)"
   ]
  },
  {
   "cell_type": "code",
   "execution_count": 878,
   "metadata": {
    "collapsed": false
   },
   "outputs": [],
   "source": [
    "df_pp = pd.DataFrame({'Preferred_Position':pp_list})"
   ]
  },
  {
   "cell_type": "code",
   "execution_count": 1038,
   "metadata": {
    "collapsed": false
   },
   "outputs": [],
   "source": [
    "df_pp['Preferred_Position'].replace('', np.nan, inplace=True)"
   ]
  },
  {
   "cell_type": "code",
   "execution_count": 880,
   "metadata": {
    "collapsed": false
   },
   "outputs": [],
   "source": [
    "df_pp_count = df_pp.groupby(['Preferred_Position'])['Preferred_Position'].count().sort_values(ascending=False)"
   ]
  },
  {
   "cell_type": "code",
   "execution_count": 1286,
   "metadata": {
    "collapsed": false
   },
   "outputs": [
    {
     "data": {
      "image/png": "[encoded data removed]",
      "text/plain": [
       "<matplotlib.figure.Figure at 0xf7cc64278>"
      ]
     },
     "metadata": {},
     "output_type": "display_data"
    }
   ],
   "source": [
    "plt.figure(figsize=(12,6))\n",
    "df_pp_count.plot(kind=\"bar\",color='yellowgreen')\n",
    "plt.title(\"Distribution of preferred positions of all the players\",fontsize=15,fontweight='bold')\n",
    "plt.xlabel(\"Preferred positions\",fontsize=15)\n",
    "plt.tick_params(labelsize=12)\n",
    "plt.ylabel(\"Frequency\",fontsize=15)\n",
    "plt.show()"
   ]
  },
  {
   "cell_type": "markdown",
   "metadata": {},
   "source": [
    "###### Inference"
   ]
  },
  {
   "cell_type": "markdown",
   "metadata": {},
   "source": [
    "The most preferred positions for most of the players is as follows (In the order mentioned): \n",
    "Center Back, Center Midfielder, Striker, Center Defensive Midfielder, Left Midfielder, Right Midfielder, Center Attacking Midfielder, Left Back, Right Back, Goal Keeper, Right Wing, Left Wing, Center Forward and so on. "
   ]
  },
  {
   "cell_type": "markdown",
   "metadata": {},
   "source": [
    "# Predicting Player's positions (Attack or Defend)"
   ]
  },
  {
   "cell_type": "code",
   "execution_count": 1140,
   "metadata": {
    "collapsed": false
   },
   "outputs": [
    {
     "data": {
      "text/html": [
       "<div>\n",
       "<table border=\"1\" class=\"dataframe\">\n",
       "  <thead>\n",
       "    <tr style=\"text-align: right;\">\n",
       "      <th></th>\n",
       "      <th>Name</th>\n",
       "      <th>Age</th>\n",
       "      <th>Photo</th>\n",
       "      <th>Nationality</th>\n",
       "      <th>Flag</th>\n",
       "      <th>Overall</th>\n",
       "      <th>Potential</th>\n",
       "      <th>Club</th>\n",
       "      <th>Club Logo</th>\n",
       "      <th>Value</th>\n",
       "      <th>...</th>\n",
       "      <th>RB</th>\n",
       "      <th>RCB</th>\n",
       "      <th>RCM</th>\n",
       "      <th>RDM</th>\n",
       "      <th>RF</th>\n",
       "      <th>RM</th>\n",
       "      <th>RS</th>\n",
       "      <th>RW</th>\n",
       "      <th>RWB</th>\n",
       "      <th>ST</th>\n",
       "    </tr>\n",
       "  </thead>\n",
       "  <tbody>\n",
       "    <tr>\n",
       "      <th>0</th>\n",
       "      <td>Cristiano Ronaldo</td>\n",
       "      <td>32</td>\n",
       "      <td>https://cdn.sofifa.org/48/18/players/20801.png</td>\n",
       "      <td>Portugal</td>\n",
       "      <td>https://cdn.sofifa.org/flags/38.png</td>\n",
       "      <td>94</td>\n",
       "      <td>94</td>\n",
       "      <td>Real Madrid CF</td>\n",
       "      <td>https://cdn.sofifa.org/24/18/teams/243.png</td>\n",
       "      <td>95500000.0</td>\n",
       "      <td>...</td>\n",
       "      <td>61.0</td>\n",
       "      <td>53.0</td>\n",
       "      <td>82.0</td>\n",
       "      <td>62.0</td>\n",
       "      <td>91.0</td>\n",
       "      <td>89.0</td>\n",
       "      <td>92.0</td>\n",
       "      <td>91.0</td>\n",
       "      <td>66.0</td>\n",
       "      <td>92.0</td>\n",
       "    </tr>\n",
       "    <tr>\n",
       "      <th>1</th>\n",
       "      <td>L. Messi</td>\n",
       "      <td>30</td>\n",
       "      <td>https://cdn.sofifa.org/48/18/players/158023.png</td>\n",
       "      <td>Argentina</td>\n",
       "      <td>https://cdn.sofifa.org/flags/52.png</td>\n",
       "      <td>93</td>\n",
       "      <td>93</td>\n",
       "      <td>FC Barcelona</td>\n",
       "      <td>https://cdn.sofifa.org/24/18/teams/241.png</td>\n",
       "      <td>105000000.0</td>\n",
       "      <td>...</td>\n",
       "      <td>57.0</td>\n",
       "      <td>45.0</td>\n",
       "      <td>84.0</td>\n",
       "      <td>59.0</td>\n",
       "      <td>92.0</td>\n",
       "      <td>90.0</td>\n",
       "      <td>88.0</td>\n",
       "      <td>91.0</td>\n",
       "      <td>62.0</td>\n",
       "      <td>88.0</td>\n",
       "    </tr>\n",
       "    <tr>\n",
       "      <th>2</th>\n",
       "      <td>Neymar</td>\n",
       "      <td>25</td>\n",
       "      <td>https://cdn.sofifa.org/48/18/players/190871.png</td>\n",
       "      <td>Brazil</td>\n",
       "      <td>https://cdn.sofifa.org/flags/54.png</td>\n",
       "      <td>92</td>\n",
       "      <td>94</td>\n",
       "      <td>Paris Saint-Germain</td>\n",
       "      <td>https://cdn.sofifa.org/24/18/teams/73.png</td>\n",
       "      <td>123000000.0</td>\n",
       "      <td>...</td>\n",
       "      <td>59.0</td>\n",
       "      <td>46.0</td>\n",
       "      <td>79.0</td>\n",
       "      <td>59.0</td>\n",
       "      <td>88.0</td>\n",
       "      <td>87.0</td>\n",
       "      <td>84.0</td>\n",
       "      <td>89.0</td>\n",
       "      <td>64.0</td>\n",
       "      <td>84.0</td>\n",
       "    </tr>\n",
       "    <tr>\n",
       "      <th>3</th>\n",
       "      <td>L. Suárez</td>\n",
       "      <td>30</td>\n",
       "      <td>https://cdn.sofifa.org/48/18/players/176580.png</td>\n",
       "      <td>Uruguay</td>\n",
       "      <td>https://cdn.sofifa.org/flags/60.png</td>\n",
       "      <td>92</td>\n",
       "      <td>92</td>\n",
       "      <td>FC Barcelona</td>\n",
       "      <td>https://cdn.sofifa.org/24/18/teams/241.png</td>\n",
       "      <td>97000000.0</td>\n",
       "      <td>...</td>\n",
       "      <td>64.0</td>\n",
       "      <td>58.0</td>\n",
       "      <td>80.0</td>\n",
       "      <td>65.0</td>\n",
       "      <td>88.0</td>\n",
       "      <td>85.0</td>\n",
       "      <td>88.0</td>\n",
       "      <td>87.0</td>\n",
       "      <td>68.0</td>\n",
       "      <td>88.0</td>\n",
       "    </tr>\n",
       "    <tr>\n",
       "      <th>4</th>\n",
       "      <td>M. Neuer</td>\n",
       "      <td>31</td>\n",
       "      <td>https://cdn.sofifa.org/48/18/players/167495.png</td>\n",
       "      <td>Germany</td>\n",
       "      <td>https://cdn.sofifa.org/flags/21.png</td>\n",
       "      <td>92</td>\n",
       "      <td>92</td>\n",
       "      <td>FC Bayern Munich</td>\n",
       "      <td>https://cdn.sofifa.org/24/18/teams/21.png</td>\n",
       "      <td>61000000.0</td>\n",
       "      <td>...</td>\n",
       "      <td>NaN</td>\n",
       "      <td>NaN</td>\n",
       "      <td>NaN</td>\n",
       "      <td>NaN</td>\n",
       "      <td>NaN</td>\n",
       "      <td>NaN</td>\n",
       "      <td>NaN</td>\n",
       "      <td>NaN</td>\n",
       "      <td>NaN</td>\n",
       "      <td>NaN</td>\n",
       "    </tr>\n",
       "  </tbody>\n",
       "</table>\n",
       "<p>5 rows × 74 columns</p>\n",
       "</div>"
      ],
      "text/plain": [
       "                Name  Age                                            Photo  \\\n",
       "0  Cristiano Ronaldo   32   https://cdn.sofifa.org/48/18/players/20801.png   \n",
       "1           L. Messi   30  https://cdn.sofifa.org/48/18/players/158023.png   \n",
       "2             Neymar   25  https://cdn.sofifa.org/48/18/players/190871.png   \n",
       "3          L. Suárez   30  https://cdn.sofifa.org/48/18/players/176580.png   \n",
       "4           M. Neuer   31  https://cdn.sofifa.org/48/18/players/167495.png   \n",
       "\n",
       "  Nationality                                 Flag  Overall  Potential  \\\n",
       "0    Portugal  https://cdn.sofifa.org/flags/38.png       94         94   \n",
       "1   Argentina  https://cdn.sofifa.org/flags/52.png       93         93   \n",
       "2      Brazil  https://cdn.sofifa.org/flags/54.png       92         94   \n",
       "3     Uruguay  https://cdn.sofifa.org/flags/60.png       92         92   \n",
       "4     Germany  https://cdn.sofifa.org/flags/21.png       92         92   \n",
       "\n",
       "                  Club                                   Club Logo  \\\n",
       "0       Real Madrid CF  https://cdn.sofifa.org/24/18/teams/243.png   \n",
       "1         FC Barcelona  https://cdn.sofifa.org/24/18/teams/241.png   \n",
       "2  Paris Saint-Germain   https://cdn.sofifa.org/24/18/teams/73.png   \n",
       "3         FC Barcelona  https://cdn.sofifa.org/24/18/teams/241.png   \n",
       "4     FC Bayern Munich   https://cdn.sofifa.org/24/18/teams/21.png   \n",
       "\n",
       "         Value  ...     RB   RCB   RCM   RDM    RF    RM    RS    RW   RWB  \\\n",
       "0   95500000.0  ...   61.0  53.0  82.0  62.0  91.0  89.0  92.0  91.0  66.0   \n",
       "1  105000000.0  ...   57.0  45.0  84.0  59.0  92.0  90.0  88.0  91.0  62.0   \n",
       "2  123000000.0  ...   59.0  46.0  79.0  59.0  88.0  87.0  84.0  89.0  64.0   \n",
       "3   97000000.0  ...   64.0  58.0  80.0  65.0  88.0  85.0  88.0  87.0  68.0   \n",
       "4   61000000.0  ...    NaN   NaN   NaN   NaN   NaN   NaN   NaN   NaN   NaN   \n",
       "\n",
       "     ST  \n",
       "0  92.0  \n",
       "1  88.0  \n",
       "2  84.0  \n",
       "3  88.0  \n",
       "4   NaN  \n",
       "\n",
       "[5 rows x 74 columns]"
      ]
     },
     "execution_count": 1140,
     "metadata": {},
     "output_type": "execute_result"
    }
   ],
   "source": [
    "df.head()"
   ]
  },
  {
   "cell_type": "code",
   "execution_count": 1141,
   "metadata": {
    "collapsed": true
   },
   "outputs": [],
   "source": [
    "columns_required = ['Acceleration', 'Aggression', 'Agility', 'Balance', 'Ball control',\n",
    "       'Composure', 'Crossing', 'Curve', 'Dribbling', 'Finishing',\n",
    "       'Free kick accuracy', 'Heading accuracy', 'Interceptions',\n",
    "       'Jumping', 'Long passing', 'Long shots', 'Marking', 'Penalties',\n",
    "       'Positioning', 'Reactions', 'Short passing', 'Shot power',\n",
    "       'Sliding tackle', 'Sprint speed', 'Stamina', 'Standing tackle',\n",
    "       'Strength', 'Vision', 'Volleys', 'Preferred Positions']"
   ]
  },
  {
   "cell_type": "code",
   "execution_count": 1142,
   "metadata": {
    "collapsed": true
   },
   "outputs": [],
   "source": [
    "columns_required_rearranged = ['Aggression','Crossing', 'Curve', 'Dribbling', 'Finishing',\n",
    "       'Free kick accuracy', 'Heading accuracy', 'Long shots','Penalties', 'Shot power', 'Volleys', \n",
    "       'Short passing', 'Long passing',\n",
    "       'Interceptions', 'Marking', 'Sliding tackle', 'Standing tackle',\n",
    "       'Strength', 'Vision', 'Acceleration', 'Agility', \n",
    "       'Reactions', 'Stamina', 'Balance', 'Ball control','Composure','Jumping', \n",
    "       'Sprint speed', 'Positioning','Preferred Positions']"
   ]
  },
  {
   "cell_type": "code",
   "execution_count": 1143,
   "metadata": {
    "collapsed": false
   },
   "outputs": [
    {
     "data": {
      "text/html": [
       "<div>\n",
       "<table border=\"1\" class=\"dataframe\">\n",
       "  <thead>\n",
       "    <tr style=\"text-align: right;\">\n",
       "      <th></th>\n",
       "      <th>Aggression</th>\n",
       "      <th>Crossing</th>\n",
       "      <th>Curve</th>\n",
       "      <th>Dribbling</th>\n",
       "      <th>Finishing</th>\n",
       "      <th>Free kick accuracy</th>\n",
       "      <th>Heading accuracy</th>\n",
       "      <th>Long shots</th>\n",
       "      <th>Penalties</th>\n",
       "      <th>Shot power</th>\n",
       "      <th>...</th>\n",
       "      <th>Agility</th>\n",
       "      <th>Reactions</th>\n",
       "      <th>Stamina</th>\n",
       "      <th>Balance</th>\n",
       "      <th>Ball control</th>\n",
       "      <th>Composure</th>\n",
       "      <th>Jumping</th>\n",
       "      <th>Sprint speed</th>\n",
       "      <th>Positioning</th>\n",
       "      <th>Preferred Positions</th>\n",
       "    </tr>\n",
       "  </thead>\n",
       "  <tbody>\n",
       "    <tr>\n",
       "      <th>0</th>\n",
       "      <td>63</td>\n",
       "      <td>85</td>\n",
       "      <td>81</td>\n",
       "      <td>91</td>\n",
       "      <td>94</td>\n",
       "      <td>76</td>\n",
       "      <td>88</td>\n",
       "      <td>92</td>\n",
       "      <td>85</td>\n",
       "      <td>94</td>\n",
       "      <td>...</td>\n",
       "      <td>89</td>\n",
       "      <td>96</td>\n",
       "      <td>92</td>\n",
       "      <td>63</td>\n",
       "      <td>93</td>\n",
       "      <td>95</td>\n",
       "      <td>95</td>\n",
       "      <td>91</td>\n",
       "      <td>95</td>\n",
       "      <td>ST LW</td>\n",
       "    </tr>\n",
       "    <tr>\n",
       "      <th>1</th>\n",
       "      <td>48</td>\n",
       "      <td>77</td>\n",
       "      <td>89</td>\n",
       "      <td>97</td>\n",
       "      <td>95</td>\n",
       "      <td>90</td>\n",
       "      <td>71</td>\n",
       "      <td>88</td>\n",
       "      <td>74</td>\n",
       "      <td>85</td>\n",
       "      <td>...</td>\n",
       "      <td>90</td>\n",
       "      <td>95</td>\n",
       "      <td>73</td>\n",
       "      <td>95</td>\n",
       "      <td>95</td>\n",
       "      <td>96</td>\n",
       "      <td>68</td>\n",
       "      <td>87</td>\n",
       "      <td>93</td>\n",
       "      <td>RW</td>\n",
       "    </tr>\n",
       "    <tr>\n",
       "      <th>2</th>\n",
       "      <td>56</td>\n",
       "      <td>75</td>\n",
       "      <td>81</td>\n",
       "      <td>96</td>\n",
       "      <td>89</td>\n",
       "      <td>84</td>\n",
       "      <td>62</td>\n",
       "      <td>77</td>\n",
       "      <td>81</td>\n",
       "      <td>80</td>\n",
       "      <td>...</td>\n",
       "      <td>96</td>\n",
       "      <td>88</td>\n",
       "      <td>78</td>\n",
       "      <td>82</td>\n",
       "      <td>95</td>\n",
       "      <td>92</td>\n",
       "      <td>61</td>\n",
       "      <td>90</td>\n",
       "      <td>90</td>\n",
       "      <td>LW</td>\n",
       "    </tr>\n",
       "    <tr>\n",
       "      <th>3</th>\n",
       "      <td>78</td>\n",
       "      <td>77</td>\n",
       "      <td>86</td>\n",
       "      <td>86</td>\n",
       "      <td>94</td>\n",
       "      <td>84</td>\n",
       "      <td>77</td>\n",
       "      <td>86</td>\n",
       "      <td>85</td>\n",
       "      <td>87</td>\n",
       "      <td>...</td>\n",
       "      <td>86</td>\n",
       "      <td>93</td>\n",
       "      <td>89</td>\n",
       "      <td>60</td>\n",
       "      <td>91</td>\n",
       "      <td>83</td>\n",
       "      <td>69</td>\n",
       "      <td>77</td>\n",
       "      <td>92</td>\n",
       "      <td>ST</td>\n",
       "    </tr>\n",
       "    <tr>\n",
       "      <th>4</th>\n",
       "      <td>29</td>\n",
       "      <td>15</td>\n",
       "      <td>14</td>\n",
       "      <td>30</td>\n",
       "      <td>13</td>\n",
       "      <td>11</td>\n",
       "      <td>25</td>\n",
       "      <td>16</td>\n",
       "      <td>47</td>\n",
       "      <td>25</td>\n",
       "      <td>...</td>\n",
       "      <td>52</td>\n",
       "      <td>85</td>\n",
       "      <td>44</td>\n",
       "      <td>35</td>\n",
       "      <td>48</td>\n",
       "      <td>70</td>\n",
       "      <td>78</td>\n",
       "      <td>61</td>\n",
       "      <td>12</td>\n",
       "      <td>GK</td>\n",
       "    </tr>\n",
       "  </tbody>\n",
       "</table>\n",
       "<p>5 rows × 30 columns</p>\n",
       "</div>"
      ],
      "text/plain": [
       "  Aggression Crossing Curve Dribbling Finishing Free kick accuracy  \\\n",
       "0         63       85    81        91        94                 76   \n",
       "1         48       77    89        97        95                 90   \n",
       "2         56       75    81        96        89                 84   \n",
       "3         78       77    86        86        94                 84   \n",
       "4         29       15    14        30        13                 11   \n",
       "\n",
       "  Heading accuracy Long shots Penalties Shot power         ...          \\\n",
       "0               88         92        85         94         ...           \n",
       "1               71         88        74         85         ...           \n",
       "2               62         77        81         80         ...           \n",
       "3               77         86        85         87         ...           \n",
       "4               25         16        47         25         ...           \n",
       "\n",
       "  Agility Reactions Stamina Balance Ball control Composure Jumping  \\\n",
       "0      89        96      92      63           93        95      95   \n",
       "1      90        95      73      95           95        96      68   \n",
       "2      96        88      78      82           95        92      61   \n",
       "3      86        93      89      60           91        83      69   \n",
       "4      52        85      44      35           48        70      78   \n",
       "\n",
       "  Sprint speed Positioning Preferred Positions  \n",
       "0           91          95              ST LW   \n",
       "1           87          93                 RW   \n",
       "2           90          90                 LW   \n",
       "3           77          92                 ST   \n",
       "4           61          12                 GK   \n",
       "\n",
       "[5 rows x 30 columns]"
      ]
     },
     "execution_count": 1143,
     "metadata": {},
     "output_type": "execute_result"
    }
   ],
   "source": [
    "df_new = df[columns_required_rearranged]\n",
    "df_new.head()"
   ]
  },
  {
   "cell_type": "code",
   "execution_count": 1145,
   "metadata": {
    "collapsed": false
   },
   "outputs": [],
   "source": [
    "# We do not want to predict Goal Keeper as it does not make sense because it would be too obvious\n",
    "df_new['Preferred Positions'] = df_new['Preferred Positions'].str.strip()\n",
    "df_new = df_new[df_new['Preferred Positions']!='GK']"
   ]
  },
  {
   "cell_type": "code",
   "execution_count": 1146,
   "metadata": {
    "collapsed": false
   },
   "outputs": [
    {
     "data": {
      "text/html": [
       "<div>\n",
       "<table border=\"1\" class=\"dataframe\">\n",
       "  <thead>\n",
       "    <tr style=\"text-align: right;\">\n",
       "      <th></th>\n",
       "      <th>Aggression</th>\n",
       "      <th>Crossing</th>\n",
       "      <th>Curve</th>\n",
       "      <th>Dribbling</th>\n",
       "      <th>Finishing</th>\n",
       "      <th>Free kick accuracy</th>\n",
       "      <th>Heading accuracy</th>\n",
       "      <th>Long shots</th>\n",
       "      <th>Penalties</th>\n",
       "      <th>Shot power</th>\n",
       "      <th>...</th>\n",
       "      <th>Agility</th>\n",
       "      <th>Reactions</th>\n",
       "      <th>Stamina</th>\n",
       "      <th>Balance</th>\n",
       "      <th>Ball control</th>\n",
       "      <th>Composure</th>\n",
       "      <th>Jumping</th>\n",
       "      <th>Sprint speed</th>\n",
       "      <th>Positioning</th>\n",
       "      <th>Preferred Positions</th>\n",
       "    </tr>\n",
       "  </thead>\n",
       "  <tbody>\n",
       "    <tr>\n",
       "      <th>0</th>\n",
       "      <td>63</td>\n",
       "      <td>85</td>\n",
       "      <td>81</td>\n",
       "      <td>91</td>\n",
       "      <td>94</td>\n",
       "      <td>76</td>\n",
       "      <td>88</td>\n",
       "      <td>92</td>\n",
       "      <td>85</td>\n",
       "      <td>94</td>\n",
       "      <td>...</td>\n",
       "      <td>89</td>\n",
       "      <td>96</td>\n",
       "      <td>92</td>\n",
       "      <td>63</td>\n",
       "      <td>93</td>\n",
       "      <td>95</td>\n",
       "      <td>95</td>\n",
       "      <td>91</td>\n",
       "      <td>95</td>\n",
       "      <td>ST LW</td>\n",
       "    </tr>\n",
       "    <tr>\n",
       "      <th>1</th>\n",
       "      <td>48</td>\n",
       "      <td>77</td>\n",
       "      <td>89</td>\n",
       "      <td>97</td>\n",
       "      <td>95</td>\n",
       "      <td>90</td>\n",
       "      <td>71</td>\n",
       "      <td>88</td>\n",
       "      <td>74</td>\n",
       "      <td>85</td>\n",
       "      <td>...</td>\n",
       "      <td>90</td>\n",
       "      <td>95</td>\n",
       "      <td>73</td>\n",
       "      <td>95</td>\n",
       "      <td>95</td>\n",
       "      <td>96</td>\n",
       "      <td>68</td>\n",
       "      <td>87</td>\n",
       "      <td>93</td>\n",
       "      <td>RW</td>\n",
       "    </tr>\n",
       "    <tr>\n",
       "      <th>2</th>\n",
       "      <td>56</td>\n",
       "      <td>75</td>\n",
       "      <td>81</td>\n",
       "      <td>96</td>\n",
       "      <td>89</td>\n",
       "      <td>84</td>\n",
       "      <td>62</td>\n",
       "      <td>77</td>\n",
       "      <td>81</td>\n",
       "      <td>80</td>\n",
       "      <td>...</td>\n",
       "      <td>96</td>\n",
       "      <td>88</td>\n",
       "      <td>78</td>\n",
       "      <td>82</td>\n",
       "      <td>95</td>\n",
       "      <td>92</td>\n",
       "      <td>61</td>\n",
       "      <td>90</td>\n",
       "      <td>90</td>\n",
       "      <td>LW</td>\n",
       "    </tr>\n",
       "    <tr>\n",
       "      <th>3</th>\n",
       "      <td>78</td>\n",
       "      <td>77</td>\n",
       "      <td>86</td>\n",
       "      <td>86</td>\n",
       "      <td>94</td>\n",
       "      <td>84</td>\n",
       "      <td>77</td>\n",
       "      <td>86</td>\n",
       "      <td>85</td>\n",
       "      <td>87</td>\n",
       "      <td>...</td>\n",
       "      <td>86</td>\n",
       "      <td>93</td>\n",
       "      <td>89</td>\n",
       "      <td>60</td>\n",
       "      <td>91</td>\n",
       "      <td>83</td>\n",
       "      <td>69</td>\n",
       "      <td>77</td>\n",
       "      <td>92</td>\n",
       "      <td>ST</td>\n",
       "    </tr>\n",
       "    <tr>\n",
       "      <th>5</th>\n",
       "      <td>80</td>\n",
       "      <td>62</td>\n",
       "      <td>77</td>\n",
       "      <td>85</td>\n",
       "      <td>91</td>\n",
       "      <td>84</td>\n",
       "      <td>85</td>\n",
       "      <td>83</td>\n",
       "      <td>81</td>\n",
       "      <td>88</td>\n",
       "      <td>...</td>\n",
       "      <td>78</td>\n",
       "      <td>91</td>\n",
       "      <td>79</td>\n",
       "      <td>80</td>\n",
       "      <td>89</td>\n",
       "      <td>87</td>\n",
       "      <td>84</td>\n",
       "      <td>83</td>\n",
       "      <td>91</td>\n",
       "      <td>ST</td>\n",
       "    </tr>\n",
       "  </tbody>\n",
       "</table>\n",
       "<p>5 rows × 30 columns</p>\n",
       "</div>"
      ],
      "text/plain": [
       "  Aggression Crossing Curve Dribbling Finishing Free kick accuracy  \\\n",
       "0         63       85    81        91        94                 76   \n",
       "1         48       77    89        97        95                 90   \n",
       "2         56       75    81        96        89                 84   \n",
       "3         78       77    86        86        94                 84   \n",
       "5         80       62    77        85        91                 84   \n",
       "\n",
       "  Heading accuracy Long shots Penalties Shot power         ...          \\\n",
       "0               88         92        85         94         ...           \n",
       "1               71         88        74         85         ...           \n",
       "2               62         77        81         80         ...           \n",
       "3               77         86        85         87         ...           \n",
       "5               85         83        81         88         ...           \n",
       "\n",
       "  Agility Reactions Stamina Balance Ball control Composure Jumping  \\\n",
       "0      89        96      92      63           93        95      95   \n",
       "1      90        95      73      95           95        96      68   \n",
       "2      96        88      78      82           95        92      61   \n",
       "3      86        93      89      60           91        83      69   \n",
       "5      78        91      79      80           89        87      84   \n",
       "\n",
       "  Sprint speed Positioning Preferred Positions  \n",
       "0           91          95               ST LW  \n",
       "1           87          93                  RW  \n",
       "2           90          90                  LW  \n",
       "3           77          92                  ST  \n",
       "5           83          91                  ST  \n",
       "\n",
       "[5 rows x 30 columns]"
      ]
     },
     "execution_count": 1146,
     "metadata": {},
     "output_type": "execute_result"
    }
   ],
   "source": [
    "df_new.head()"
   ]
  },
  {
   "cell_type": "code",
   "execution_count": 1147,
   "metadata": {
    "collapsed": false
   },
   "outputs": [
    {
     "data": {
      "text/plain": [
       "False"
      ]
     },
     "execution_count": 1147,
     "metadata": {},
     "output_type": "execute_result"
    }
   ],
   "source": [
    "df_new.isnull().values.any()"
   ]
  },
  {
   "cell_type": "code",
   "execution_count": 1148,
   "metadata": {
    "collapsed": false,
    "scrolled": true
   },
   "outputs": [
    {
     "data": {
      "text/plain": [
       "['RM',\n",
       " 'ST',\n",
       " 'LW',\n",
       " 'CB',\n",
       " 'LWB',\n",
       " 'LB',\n",
       " 'LM',\n",
       " 'CAM',\n",
       " 'RWB',\n",
       " 'CM',\n",
       " 'RW',\n",
       " 'GK',\n",
       " 'CDM',\n",
       " 'RB',\n",
       " 'CF']"
      ]
     },
     "execution_count": 1148,
     "metadata": {},
     "output_type": "execute_result"
    }
   ],
   "source": [
    "unique_pp = list(set([x[0] for x in df['Preferred Positions'].str.split()]))\n",
    "unique_pp"
   ]
  },
  {
   "cell_type": "markdown",
   "metadata": {},
   "source": [
    "##### Handle players with multiple preferred_positions: duplicate a set of data for each###### "
   ]
  },
  {
   "cell_type": "code",
   "execution_count": 1149,
   "metadata": {
    "collapsed": false
   },
   "outputs": [
    {
     "name": "stderr",
     "output_type": "stream",
     "text": [
      "/Users/ashishpowani/anaconda/lib/python3.6/site-packages/ipykernel/__main__.py:7: SettingWithCopyWarning: \n",
      "A value is trying to be set on a copy of a slice from a DataFrame.\n",
      "Try using .loc[row_indexer,col_indexer] = value instead\n",
      "\n",
      "See the caveats in the documentation: http://pandas.pydata.org/pandas-docs/stable/indexing.html#indexing-view-versus-copy\n"
     ]
    }
   ],
   "source": [
    "#copy the dataframe into a new dataframe\n",
    "df_copy = df_new.copy()\n",
    "df_copy.drop(df_copy.index, inplace=True)\n",
    "\n",
    "for i in unique_pp:\n",
    "    df_temp = df_new[df_new['Preferred Positions'].str.contains(i)]\n",
    "    df_temp['Preferred Positions'] = i\n",
    "    df_copy = df_copy.append(df_temp, ignore_index=True)"
   ]
  },
  {
   "cell_type": "code",
   "execution_count": 1150,
   "metadata": {
    "collapsed": false
   },
   "outputs": [],
   "source": [
    "#df_copy.iloc[::500,:]"
   ]
  },
  {
   "cell_type": "code",
   "execution_count": 1151,
   "metadata": {
    "collapsed": false
   },
   "outputs": [
    {
     "data": {
      "text/plain": [
       "['Aggression',\n",
       " 'Crossing',\n",
       " 'Curve',\n",
       " 'Dribbling',\n",
       " 'Finishing',\n",
       " 'Free kick accuracy',\n",
       " 'Heading accuracy',\n",
       " 'Long shots',\n",
       " 'Penalties',\n",
       " 'Shot power',\n",
       " 'Volleys',\n",
       " 'Short passing',\n",
       " 'Long passing',\n",
       " 'Interceptions',\n",
       " 'Marking',\n",
       " 'Sliding tackle',\n",
       " 'Standing tackle',\n",
       " 'Strength',\n",
       " 'Vision',\n",
       " 'Acceleration',\n",
       " 'Agility',\n",
       " 'Reactions',\n",
       " 'Stamina',\n",
       " 'Balance',\n",
       " 'Ball control',\n",
       " 'Composure',\n",
       " 'Jumping',\n",
       " 'Sprint speed',\n",
       " 'Positioning']"
      ]
     },
     "execution_count": 1151,
     "metadata": {},
     "output_type": "execute_result"
    }
   ],
   "source": [
    "cols = [x for x in df_copy.columns if x not in ['Preferred Positions']]\n",
    "cols"
   ]
  },
  {
   "cell_type": "code",
   "execution_count": 1152,
   "metadata": {
    "collapsed": false
   },
   "outputs": [],
   "source": [
    "for i in cols:\n",
    "    df_copy[i] = [eval(x) if isinstance(x,str) else x for x in df_copy[i]]"
   ]
  },
  {
   "cell_type": "code",
   "execution_count": 1153,
   "metadata": {
    "collapsed": false
   },
   "outputs": [
    {
     "data": {
      "text/html": [
       "<div>\n",
       "<table border=\"1\" class=\"dataframe\">\n",
       "  <thead>\n",
       "    <tr style=\"text-align: right;\">\n",
       "      <th></th>\n",
       "      <th>Aggression</th>\n",
       "      <th>Crossing</th>\n",
       "      <th>Curve</th>\n",
       "      <th>Dribbling</th>\n",
       "      <th>Finishing</th>\n",
       "      <th>Free kick accuracy</th>\n",
       "      <th>Heading accuracy</th>\n",
       "      <th>Long shots</th>\n",
       "      <th>Penalties</th>\n",
       "      <th>Shot power</th>\n",
       "      <th>...</th>\n",
       "      <th>Agility</th>\n",
       "      <th>Reactions</th>\n",
       "      <th>Stamina</th>\n",
       "      <th>Balance</th>\n",
       "      <th>Ball control</th>\n",
       "      <th>Composure</th>\n",
       "      <th>Jumping</th>\n",
       "      <th>Sprint speed</th>\n",
       "      <th>Positioning</th>\n",
       "      <th>Preferred Positions</th>\n",
       "    </tr>\n",
       "  </thead>\n",
       "  <tbody>\n",
       "    <tr>\n",
       "      <th>0</th>\n",
       "      <td>68</td>\n",
       "      <td>90</td>\n",
       "      <td>83</td>\n",
       "      <td>85</td>\n",
       "      <td>83</td>\n",
       "      <td>83</td>\n",
       "      <td>53</td>\n",
       "      <td>86</td>\n",
       "      <td>77</td>\n",
       "      <td>85</td>\n",
       "      <td>...</td>\n",
       "      <td>80</td>\n",
       "      <td>88</td>\n",
       "      <td>87</td>\n",
       "      <td>75</td>\n",
       "      <td>87</td>\n",
       "      <td>84</td>\n",
       "      <td>65</td>\n",
       "      <td>75</td>\n",
       "      <td>84</td>\n",
       "      <td>RM</td>\n",
       "    </tr>\n",
       "    <tr>\n",
       "      <th>1</th>\n",
       "      <td>80</td>\n",
       "      <td>80</td>\n",
       "      <td>78</td>\n",
       "      <td>90</td>\n",
       "      <td>85</td>\n",
       "      <td>78</td>\n",
       "      <td>70</td>\n",
       "      <td>82</td>\n",
       "      <td>77</td>\n",
       "      <td>84</td>\n",
       "      <td>...</td>\n",
       "      <td>90</td>\n",
       "      <td>87</td>\n",
       "      <td>85</td>\n",
       "      <td>87</td>\n",
       "      <td>87</td>\n",
       "      <td>86</td>\n",
       "      <td>85</td>\n",
       "      <td>84</td>\n",
       "      <td>86</td>\n",
       "      <td>RM</td>\n",
       "    </tr>\n",
       "    <tr>\n",
       "      <th>2</th>\n",
       "      <td>47</td>\n",
       "      <td>80</td>\n",
       "      <td>87</td>\n",
       "      <td>92</td>\n",
       "      <td>85</td>\n",
       "      <td>81</td>\n",
       "      <td>51</td>\n",
       "      <td>88</td>\n",
       "      <td>80</td>\n",
       "      <td>87</td>\n",
       "      <td>...</td>\n",
       "      <td>89</td>\n",
       "      <td>87</td>\n",
       "      <td>68</td>\n",
       "      <td>91</td>\n",
       "      <td>89</td>\n",
       "      <td>86</td>\n",
       "      <td>61</td>\n",
       "      <td>86</td>\n",
       "      <td>85</td>\n",
       "      <td>RM</td>\n",
       "    </tr>\n",
       "    <tr>\n",
       "      <th>3</th>\n",
       "      <td>44</td>\n",
       "      <td>86</td>\n",
       "      <td>85</td>\n",
       "      <td>84</td>\n",
       "      <td>76</td>\n",
       "      <td>87</td>\n",
       "      <td>52</td>\n",
       "      <td>84</td>\n",
       "      <td>67</td>\n",
       "      <td>80</td>\n",
       "      <td>...</td>\n",
       "      <td>78</td>\n",
       "      <td>83</td>\n",
       "      <td>90</td>\n",
       "      <td>82</td>\n",
       "      <td>87</td>\n",
       "      <td>87</td>\n",
       "      <td>57</td>\n",
       "      <td>74</td>\n",
       "      <td>81</td>\n",
       "      <td>RM</td>\n",
       "    </tr>\n",
       "    <tr>\n",
       "      <th>4</th>\n",
       "      <td>65</td>\n",
       "      <td>88</td>\n",
       "      <td>87</td>\n",
       "      <td>83</td>\n",
       "      <td>82</td>\n",
       "      <td>86</td>\n",
       "      <td>62</td>\n",
       "      <td>91</td>\n",
       "      <td>81</td>\n",
       "      <td>86</td>\n",
       "      <td>...</td>\n",
       "      <td>82</td>\n",
       "      <td>84</td>\n",
       "      <td>68</td>\n",
       "      <td>75</td>\n",
       "      <td>85</td>\n",
       "      <td>87</td>\n",
       "      <td>54</td>\n",
       "      <td>75</td>\n",
       "      <td>80</td>\n",
       "      <td>RM</td>\n",
       "    </tr>\n",
       "  </tbody>\n",
       "</table>\n",
       "<p>5 rows × 30 columns</p>\n",
       "</div>"
      ],
      "text/plain": [
       "   Aggression  Crossing  Curve  Dribbling  Finishing  Free kick accuracy  \\\n",
       "0          68        90     83         85         83                  83   \n",
       "1          80        80     78         90         85                  78   \n",
       "2          47        80     87         92         85                  81   \n",
       "3          44        86     85         84         76                  87   \n",
       "4          65        88     87         83         82                  86   \n",
       "\n",
       "   Heading accuracy  Long shots  Penalties  Shot power         ...           \\\n",
       "0                53          86         77          85         ...            \n",
       "1                70          82         77          84         ...            \n",
       "2                51          88         80          87         ...            \n",
       "3                52          84         67          80         ...            \n",
       "4                62          91         81          86         ...            \n",
       "\n",
       "   Agility  Reactions  Stamina  Balance  Ball control  Composure  Jumping  \\\n",
       "0       80         88       87       75            87         84       65   \n",
       "1       90         87       85       87            87         86       85   \n",
       "2       89         87       68       91            89         86       61   \n",
       "3       78         83       90       82            87         87       57   \n",
       "4       82         84       68       75            85         87       54   \n",
       "\n",
       "   Sprint speed  Positioning  Preferred Positions  \n",
       "0            75           84                   RM  \n",
       "1            84           86                   RM  \n",
       "2            86           85                   RM  \n",
       "3            74           81                   RM  \n",
       "4            75           80                   RM  \n",
       "\n",
       "[5 rows x 30 columns]"
      ]
     },
     "execution_count": 1153,
     "metadata": {},
     "output_type": "execute_result"
    }
   ],
   "source": [
    "#df_copy.iloc[::500,:]\n",
    "df_copy.head()"
   ]
  },
  {
   "cell_type": "markdown",
   "metadata": {},
   "source": [
    "### Normalization"
   ]
  },
  {
   "cell_type": "raw",
   "metadata": {},
   "source": [
    "All the attribute scores has to be normalized because each player would be strong or weak in different attributes and hence they attribute values would have a range of values. So in order to bring them all in the same range, I normalized it."
   ]
  },
  {
   "cell_type": "code",
   "execution_count": 1154,
   "metadata": {
    "collapsed": false
   },
   "outputs": [
    {
     "data": {
      "text/html": [
       "<div>\n",
       "<table border=\"1\" class=\"dataframe\">\n",
       "  <thead>\n",
       "    <tr style=\"text-align: right;\">\n",
       "      <th></th>\n",
       "      <th>Aggression</th>\n",
       "      <th>Crossing</th>\n",
       "      <th>Curve</th>\n",
       "      <th>Dribbling</th>\n",
       "      <th>Finishing</th>\n",
       "      <th>Free kick accuracy</th>\n",
       "      <th>Heading accuracy</th>\n",
       "      <th>Long shots</th>\n",
       "      <th>Penalties</th>\n",
       "      <th>Shot power</th>\n",
       "      <th>...</th>\n",
       "      <th>Acceleration</th>\n",
       "      <th>Agility</th>\n",
       "      <th>Reactions</th>\n",
       "      <th>Stamina</th>\n",
       "      <th>Balance</th>\n",
       "      <th>Ball control</th>\n",
       "      <th>Composure</th>\n",
       "      <th>Jumping</th>\n",
       "      <th>Sprint speed</th>\n",
       "      <th>Positioning</th>\n",
       "    </tr>\n",
       "  </thead>\n",
       "  <tbody>\n",
       "    <tr>\n",
       "      <th>0</th>\n",
       "      <td>0.031050</td>\n",
       "      <td>0.041096</td>\n",
       "      <td>0.037900</td>\n",
       "      <td>0.038813</td>\n",
       "      <td>0.037900</td>\n",
       "      <td>0.037900</td>\n",
       "      <td>0.024201</td>\n",
       "      <td>0.039269</td>\n",
       "      <td>0.035160</td>\n",
       "      <td>0.038813</td>\n",
       "      <td>...</td>\n",
       "      <td>0.034703</td>\n",
       "      <td>0.036530</td>\n",
       "      <td>0.040183</td>\n",
       "      <td>0.039726</td>\n",
       "      <td>0.034247</td>\n",
       "      <td>0.039726</td>\n",
       "      <td>0.038356</td>\n",
       "      <td>0.029680</td>\n",
       "      <td>0.034247</td>\n",
       "      <td>0.038356</td>\n",
       "    </tr>\n",
       "    <tr>\n",
       "      <th>1</th>\n",
       "      <td>0.036248</td>\n",
       "      <td>0.036248</td>\n",
       "      <td>0.035342</td>\n",
       "      <td>0.040779</td>\n",
       "      <td>0.038514</td>\n",
       "      <td>0.035342</td>\n",
       "      <td>0.031717</td>\n",
       "      <td>0.037155</td>\n",
       "      <td>0.034889</td>\n",
       "      <td>0.038061</td>\n",
       "      <td>...</td>\n",
       "      <td>0.039873</td>\n",
       "      <td>0.040779</td>\n",
       "      <td>0.039420</td>\n",
       "      <td>0.038514</td>\n",
       "      <td>0.039420</td>\n",
       "      <td>0.039420</td>\n",
       "      <td>0.038967</td>\n",
       "      <td>0.038514</td>\n",
       "      <td>0.038061</td>\n",
       "      <td>0.038967</td>\n",
       "    </tr>\n",
       "    <tr>\n",
       "      <th>2</th>\n",
       "      <td>0.022191</td>\n",
       "      <td>0.037771</td>\n",
       "      <td>0.041076</td>\n",
       "      <td>0.043437</td>\n",
       "      <td>0.040132</td>\n",
       "      <td>0.038244</td>\n",
       "      <td>0.024079</td>\n",
       "      <td>0.041549</td>\n",
       "      <td>0.037771</td>\n",
       "      <td>0.041076</td>\n",
       "      <td>...</td>\n",
       "      <td>0.041076</td>\n",
       "      <td>0.042021</td>\n",
       "      <td>0.041076</td>\n",
       "      <td>0.032106</td>\n",
       "      <td>0.042965</td>\n",
       "      <td>0.042021</td>\n",
       "      <td>0.040604</td>\n",
       "      <td>0.028801</td>\n",
       "      <td>0.040604</td>\n",
       "      <td>0.040132</td>\n",
       "    </tr>\n",
       "    <tr>\n",
       "      <th>3</th>\n",
       "      <td>0.020873</td>\n",
       "      <td>0.040797</td>\n",
       "      <td>0.040323</td>\n",
       "      <td>0.039848</td>\n",
       "      <td>0.036053</td>\n",
       "      <td>0.041271</td>\n",
       "      <td>0.024668</td>\n",
       "      <td>0.039848</td>\n",
       "      <td>0.031784</td>\n",
       "      <td>0.037951</td>\n",
       "      <td>...</td>\n",
       "      <td>0.036528</td>\n",
       "      <td>0.037002</td>\n",
       "      <td>0.039374</td>\n",
       "      <td>0.042694</td>\n",
       "      <td>0.038899</td>\n",
       "      <td>0.041271</td>\n",
       "      <td>0.041271</td>\n",
       "      <td>0.027040</td>\n",
       "      <td>0.035104</td>\n",
       "      <td>0.038425</td>\n",
       "    </tr>\n",
       "    <tr>\n",
       "      <th>4</th>\n",
       "      <td>0.030360</td>\n",
       "      <td>0.041102</td>\n",
       "      <td>0.040635</td>\n",
       "      <td>0.038767</td>\n",
       "      <td>0.038300</td>\n",
       "      <td>0.040168</td>\n",
       "      <td>0.028958</td>\n",
       "      <td>0.042504</td>\n",
       "      <td>0.037833</td>\n",
       "      <td>0.040168</td>\n",
       "      <td>...</td>\n",
       "      <td>0.035965</td>\n",
       "      <td>0.038300</td>\n",
       "      <td>0.039234</td>\n",
       "      <td>0.031761</td>\n",
       "      <td>0.035030</td>\n",
       "      <td>0.039701</td>\n",
       "      <td>0.040635</td>\n",
       "      <td>0.025222</td>\n",
       "      <td>0.035030</td>\n",
       "      <td>0.037366</td>\n",
       "    </tr>\n",
       "  </tbody>\n",
       "</table>\n",
       "<p>5 rows × 29 columns</p>\n",
       "</div>"
      ],
      "text/plain": [
       "   Aggression  Crossing     Curve  Dribbling  Finishing  Free kick accuracy  \\\n",
       "0    0.031050  0.041096  0.037900   0.038813   0.037900            0.037900   \n",
       "1    0.036248  0.036248  0.035342   0.040779   0.038514            0.035342   \n",
       "2    0.022191  0.037771  0.041076   0.043437   0.040132            0.038244   \n",
       "3    0.020873  0.040797  0.040323   0.039848   0.036053            0.041271   \n",
       "4    0.030360  0.041102  0.040635   0.038767   0.038300            0.040168   \n",
       "\n",
       "   Heading accuracy  Long shots  Penalties  Shot power     ...       \\\n",
       "0          0.024201    0.039269   0.035160    0.038813     ...        \n",
       "1          0.031717    0.037155   0.034889    0.038061     ...        \n",
       "2          0.024079    0.041549   0.037771    0.041076     ...        \n",
       "3          0.024668    0.039848   0.031784    0.037951     ...        \n",
       "4          0.028958    0.042504   0.037833    0.040168     ...        \n",
       "\n",
       "   Acceleration   Agility  Reactions   Stamina   Balance  Ball control  \\\n",
       "0      0.034703  0.036530   0.040183  0.039726  0.034247      0.039726   \n",
       "1      0.039873  0.040779   0.039420  0.038514  0.039420      0.039420   \n",
       "2      0.041076  0.042021   0.041076  0.032106  0.042965      0.042021   \n",
       "3      0.036528  0.037002   0.039374  0.042694  0.038899      0.041271   \n",
       "4      0.035965  0.038300   0.039234  0.031761  0.035030      0.039701   \n",
       "\n",
       "   Composure   Jumping  Sprint speed  Positioning  \n",
       "0   0.038356  0.029680      0.034247     0.038356  \n",
       "1   0.038967  0.038514      0.038061     0.038967  \n",
       "2   0.040604  0.028801      0.040604     0.040132  \n",
       "3   0.041271  0.027040      0.035104     0.038425  \n",
       "4   0.040635  0.025222      0.035030     0.037366  \n",
       "\n",
       "[5 rows x 29 columns]"
      ]
     },
     "execution_count": 1154,
     "metadata": {},
     "output_type": "execute_result"
    }
   ],
   "source": [
    "df_copy_normalized = df_copy.iloc[:,:-1].div(df_copy.iloc[:,:-1].sum(axis=1), axis=0)\n",
    "df_copy_normalized.head()"
   ]
  },
  {
   "cell_type": "code",
   "execution_count": 1155,
   "metadata": {
    "collapsed": false
   },
   "outputs": [
    {
     "data": {
      "text/plain": [
       "{'CAM': 1,\n",
       " 'CB': 0,\n",
       " 'CDM': 0,\n",
       " 'CF': 1,\n",
       " 'CM': 1,\n",
       " 'LB': 0,\n",
       " 'LM': 1,\n",
       " 'LW': 1,\n",
       " 'LWB': 0,\n",
       " 'RB': 0,\n",
       " 'RM': 1,\n",
       " 'RW': 1,\n",
       " 'RWB': 0,\n",
       " 'ST': 1}"
      ]
     },
     "execution_count": 1155,
     "metadata": {},
     "output_type": "execute_result"
    }
   ],
   "source": [
    "mapping = {'ST': 1, 'RW': 1, 'LW': 1, 'RM': 1, 'CM': 1, 'LM': 1, 'CAM': 1, 'CF': 1, 'CDM': 0, 'CB': 0, 'LB': 0, 'RB': 0, 'RWB': 0, 'LWB': 0}\n",
    "mapping"
   ]
  },
  {
   "cell_type": "code",
   "execution_count": 1156,
   "metadata": {
    "collapsed": true
   },
   "outputs": [],
   "source": [
    "df_copy_normalized['Preferred Positions'] = df_copy['Preferred Positions']"
   ]
  },
  {
   "cell_type": "code",
   "execution_count": 1157,
   "metadata": {
    "collapsed": false
   },
   "outputs": [
    {
     "data": {
      "text/html": [
       "<div>\n",
       "<table border=\"1\" class=\"dataframe\">\n",
       "  <thead>\n",
       "    <tr style=\"text-align: right;\">\n",
       "      <th></th>\n",
       "      <th>Aggression</th>\n",
       "      <th>Crossing</th>\n",
       "      <th>Curve</th>\n",
       "      <th>Dribbling</th>\n",
       "      <th>Finishing</th>\n",
       "      <th>Free kick accuracy</th>\n",
       "      <th>Heading accuracy</th>\n",
       "      <th>Long shots</th>\n",
       "      <th>Penalties</th>\n",
       "      <th>Shot power</th>\n",
       "      <th>...</th>\n",
       "      <th>Agility</th>\n",
       "      <th>Reactions</th>\n",
       "      <th>Stamina</th>\n",
       "      <th>Balance</th>\n",
       "      <th>Ball control</th>\n",
       "      <th>Composure</th>\n",
       "      <th>Jumping</th>\n",
       "      <th>Sprint speed</th>\n",
       "      <th>Positioning</th>\n",
       "      <th>Preferred Positions</th>\n",
       "    </tr>\n",
       "  </thead>\n",
       "  <tbody>\n",
       "    <tr>\n",
       "      <th>0</th>\n",
       "      <td>68</td>\n",
       "      <td>90</td>\n",
       "      <td>83</td>\n",
       "      <td>85</td>\n",
       "      <td>83</td>\n",
       "      <td>83</td>\n",
       "      <td>53</td>\n",
       "      <td>86</td>\n",
       "      <td>77</td>\n",
       "      <td>85</td>\n",
       "      <td>...</td>\n",
       "      <td>80</td>\n",
       "      <td>88</td>\n",
       "      <td>87</td>\n",
       "      <td>75</td>\n",
       "      <td>87</td>\n",
       "      <td>84</td>\n",
       "      <td>65</td>\n",
       "      <td>75</td>\n",
       "      <td>84</td>\n",
       "      <td>RM</td>\n",
       "    </tr>\n",
       "    <tr>\n",
       "      <th>1</th>\n",
       "      <td>80</td>\n",
       "      <td>80</td>\n",
       "      <td>78</td>\n",
       "      <td>90</td>\n",
       "      <td>85</td>\n",
       "      <td>78</td>\n",
       "      <td>70</td>\n",
       "      <td>82</td>\n",
       "      <td>77</td>\n",
       "      <td>84</td>\n",
       "      <td>...</td>\n",
       "      <td>90</td>\n",
       "      <td>87</td>\n",
       "      <td>85</td>\n",
       "      <td>87</td>\n",
       "      <td>87</td>\n",
       "      <td>86</td>\n",
       "      <td>85</td>\n",
       "      <td>84</td>\n",
       "      <td>86</td>\n",
       "      <td>RM</td>\n",
       "    </tr>\n",
       "    <tr>\n",
       "      <th>2</th>\n",
       "      <td>47</td>\n",
       "      <td>80</td>\n",
       "      <td>87</td>\n",
       "      <td>92</td>\n",
       "      <td>85</td>\n",
       "      <td>81</td>\n",
       "      <td>51</td>\n",
       "      <td>88</td>\n",
       "      <td>80</td>\n",
       "      <td>87</td>\n",
       "      <td>...</td>\n",
       "      <td>89</td>\n",
       "      <td>87</td>\n",
       "      <td>68</td>\n",
       "      <td>91</td>\n",
       "      <td>89</td>\n",
       "      <td>86</td>\n",
       "      <td>61</td>\n",
       "      <td>86</td>\n",
       "      <td>85</td>\n",
       "      <td>RM</td>\n",
       "    </tr>\n",
       "    <tr>\n",
       "      <th>3</th>\n",
       "      <td>44</td>\n",
       "      <td>86</td>\n",
       "      <td>85</td>\n",
       "      <td>84</td>\n",
       "      <td>76</td>\n",
       "      <td>87</td>\n",
       "      <td>52</td>\n",
       "      <td>84</td>\n",
       "      <td>67</td>\n",
       "      <td>80</td>\n",
       "      <td>...</td>\n",
       "      <td>78</td>\n",
       "      <td>83</td>\n",
       "      <td>90</td>\n",
       "      <td>82</td>\n",
       "      <td>87</td>\n",
       "      <td>87</td>\n",
       "      <td>57</td>\n",
       "      <td>74</td>\n",
       "      <td>81</td>\n",
       "      <td>RM</td>\n",
       "    </tr>\n",
       "    <tr>\n",
       "      <th>4</th>\n",
       "      <td>65</td>\n",
       "      <td>88</td>\n",
       "      <td>87</td>\n",
       "      <td>83</td>\n",
       "      <td>82</td>\n",
       "      <td>86</td>\n",
       "      <td>62</td>\n",
       "      <td>91</td>\n",
       "      <td>81</td>\n",
       "      <td>86</td>\n",
       "      <td>...</td>\n",
       "      <td>82</td>\n",
       "      <td>84</td>\n",
       "      <td>68</td>\n",
       "      <td>75</td>\n",
       "      <td>85</td>\n",
       "      <td>87</td>\n",
       "      <td>54</td>\n",
       "      <td>75</td>\n",
       "      <td>80</td>\n",
       "      <td>RM</td>\n",
       "    </tr>\n",
       "  </tbody>\n",
       "</table>\n",
       "<p>5 rows × 30 columns</p>\n",
       "</div>"
      ],
      "text/plain": [
       "   Aggression  Crossing  Curve  Dribbling  Finishing  Free kick accuracy  \\\n",
       "0          68        90     83         85         83                  83   \n",
       "1          80        80     78         90         85                  78   \n",
       "2          47        80     87         92         85                  81   \n",
       "3          44        86     85         84         76                  87   \n",
       "4          65        88     87         83         82                  86   \n",
       "\n",
       "   Heading accuracy  Long shots  Penalties  Shot power         ...           \\\n",
       "0                53          86         77          85         ...            \n",
       "1                70          82         77          84         ...            \n",
       "2                51          88         80          87         ...            \n",
       "3                52          84         67          80         ...            \n",
       "4                62          91         81          86         ...            \n",
       "\n",
       "   Agility  Reactions  Stamina  Balance  Ball control  Composure  Jumping  \\\n",
       "0       80         88       87       75            87         84       65   \n",
       "1       90         87       85       87            87         86       85   \n",
       "2       89         87       68       91            89         86       61   \n",
       "3       78         83       90       82            87         87       57   \n",
       "4       82         84       68       75            85         87       54   \n",
       "\n",
       "   Sprint speed  Positioning  Preferred Positions  \n",
       "0            75           84                   RM  \n",
       "1            84           86                   RM  \n",
       "2            86           85                   RM  \n",
       "3            74           81                   RM  \n",
       "4            75           80                   RM  \n",
       "\n",
       "[5 rows x 30 columns]"
      ]
     },
     "execution_count": 1157,
     "metadata": {},
     "output_type": "execute_result"
    }
   ],
   "source": [
    "df_copy_normalized = df_copy_normalized.replace({'Preferred Positions': mapping})\n",
    "#df_copy_normalized.iloc[::1000,]\n",
    "df_copy.head()"
   ]
  },
  {
   "cell_type": "markdown",
   "metadata": {},
   "source": [
    "### Split the data set into two: - Train and Test data"
   ]
  },
  {
   "cell_type": "code",
   "execution_count": 1158,
   "metadata": {
    "collapsed": false
   },
   "outputs": [
    {
     "name": "stdout",
     "output_type": "stream",
     "text": [
      "X train shape: (20438, 29)\n",
      "X test shape: (6813, 29)\n",
      "y train shape: (20438,)\n",
      "y test shape: (6813,)\n"
     ]
    }
   ],
   "source": [
    "X_train, X_test, y_train, y_test = train_test_split(df_copy_normalized.iloc[:,:-1], df_copy_normalized.iloc[:,-1], random_state=0)\n",
    "\n",
    "print('X train shape: {}'.format(X_train.shape))\n",
    "print('X test shape: {}'.format(X_test.shape))\n",
    "print('y train shape: {}'.format(y_train.shape))\n",
    "print('y test shape: {}'.format(y_test.shape))"
   ]
  },
  {
   "cell_type": "markdown",
   "metadata": {},
   "source": [
    "### Building classification models"
   ]
  },
  {
   "cell_type": "markdown",
   "metadata": {},
   "source": [
    "### Logistic Regression"
   ]
  },
  {
   "cell_type": "code",
   "execution_count": 1159,
   "metadata": {
    "collapsed": false
   },
   "outputs": [
    {
     "name": "stdout",
     "output_type": "stream",
     "text": [
      "Dummy Classifier (most frequent class): 0.6029649200058711\n",
      "Logistic Regression Accuracy: 0.8488184353441949\n"
     ]
    }
   ],
   "source": [
    "#Dummy Classifier\n",
    "clf_D = DummyClassifier(strategy = 'most_frequent').fit(X_train, y_train)\n",
    "#Accuracy\n",
    "acc_D = clf_D.score(X_test, y_test)\n",
    "print ('Dummy Classifier (most frequent class): {}'.format(acc_D))\n",
    "\n",
    "#Logistic Regression Classifier\n",
    "clf_LR = LogisticRegression().fit(X_train, y_train)\n",
    "#Accuracy\n",
    "acc_LR = clf_LR.score(X_test, y_test)\n",
    "print ('Logistic Regression Accuracy: {}'.format(acc_LR))\n",
    "\n",
    "# Predict the target variable\n",
    "y_pred = clf_LR.predict(X_test)"
   ]
  },
  {
   "cell_type": "code",
   "execution_count": 1160,
   "metadata": {
    "collapsed": false
   },
   "outputs": [
    {
     "name": "stdout",
     "output_type": "stream",
     "text": [
      "10-fold cross validation average accuracy: 0.858\n"
     ]
    }
   ],
   "source": [
    "# Cross Validation\n",
    "from sklearn import model_selection\n",
    "from sklearn.model_selection import cross_val_score\n",
    "kfold = model_selection.KFold(n_splits=10, random_state=7)\n",
    "modelCV = LogisticRegression()\n",
    "scoring = 'accuracy'\n",
    "results = model_selection.cross_val_score(modelCV, X_train, y_train, cv=kfold, scoring=scoring)\n",
    "print(\"10-fold cross validation average accuracy: %.3f\" % (results.mean()))"
   ]
  },
  {
   "cell_type": "raw",
   "metadata": {},
   "source": [
    "The accuracy remains very close to the Logistic Regression model accuracy. So, we can say that our model generalizes well."
   ]
  },
  {
   "cell_type": "code",
   "execution_count": 1161,
   "metadata": {
    "collapsed": false
   },
   "outputs": [
    {
     "name": "stdout",
     "output_type": "stream",
     "text": [
      "[[2111  594]\n",
      " [ 436 3672]]\n"
     ]
    }
   ],
   "source": [
    "# Confusion Matrix\n",
    "from sklearn.metrics import confusion_matrix\n",
    "confusion_matrix = confusion_matrix(y_test, y_pred)\n",
    "print(confusion_matrix)"
   ]
  },
  {
   "cell_type": "raw",
   "metadata": {},
   "source": [
    "The results says that we have 2180 + 3679 correct predictions and 544 + 410 incorrect predictions"
   ]
  },
  {
   "cell_type": "code",
   "execution_count": 1162,
   "metadata": {
    "collapsed": false
   },
   "outputs": [
    {
     "name": "stdout",
     "output_type": "stream",
     "text": [
      "             precision    recall  f1-score   support\n",
      "\n",
      "          0       0.83      0.78      0.80      2705\n",
      "          1       0.86      0.89      0.88      4108\n",
      "\n",
      "avg / total       0.85      0.85      0.85      6813\n",
      "\n"
     ]
    }
   ],
   "source": [
    "# Compute precision, recall, F-measure and support\n",
    "from sklearn.metrics import classification_report\n",
    "print(classification_report(y_test, y_pred))"
   ]
  },
  {
   "cell_type": "markdown",
   "metadata": {},
   "source": [
    "### Random Forest"
   ]
  },
  {
   "cell_type": "code",
   "execution_count": 1163,
   "metadata": {
    "collapsed": false
   },
   "outputs": [
    {
     "name": "stdout",
     "output_type": "stream",
     "text": [
      "Random Forest Accuracy (Default parameters): 0.7858505797739616\n"
     ]
    }
   ],
   "source": [
    "#Classifier\n",
    "clf_RF = RandomForestClassifier(random_state=0).fit(X_train, y_train)\n",
    "#Accuracy\n",
    "acc_RF = clf_RF.score(X_test, y_test)\n",
    "print ('Random Forest Accuracy (Default parameters): {}'.format(acc_RF))\n",
    "\n",
    "# Predict the target variable\n",
    "y_pred_RF = clf_RF.predict(X_test)"
   ]
  },
  {
   "cell_type": "code",
   "execution_count": 1164,
   "metadata": {
    "collapsed": false
   },
   "outputs": [
    {
     "name": "stdout",
     "output_type": "stream",
     "text": [
      "[[1993  712]\n",
      " [ 747 3361]]\n"
     ]
    }
   ],
   "source": [
    "# Confusion Matrix\n",
    "from sklearn.metrics import confusion_matrix\n",
    "confusion_matrix = confusion_matrix(y_test, y_pred_RF)\n",
    "print(confusion_matrix)"
   ]
  },
  {
   "cell_type": "markdown",
   "metadata": {},
   "source": [
    "### Neural Network"
   ]
  },
  {
   "cell_type": "code",
   "execution_count": 1165,
   "metadata": {
    "collapsed": false
   },
   "outputs": [
    {
     "name": "stdout",
     "output_type": "stream",
     "text": [
      "Neural Networks Accuracy (Default parameters): 0.8586525759577279\n"
     ]
    }
   ],
   "source": [
    "clf_nn = MLPClassifier(random_state=0).fit(X_train, y_train)\n",
    "acc_nn = clf_nn.score(X_test, y_test)\n",
    "print ('Neural Networks Accuracy (Default parameters): {}'.format(acc_nn))"
   ]
  },
  {
   "cell_type": "code",
   "execution_count": 1166,
   "metadata": {
    "collapsed": true
   },
   "outputs": [],
   "source": [
    "# Predict the target variable\n",
    "y_pred_NN = clf_nn.predict(X_test)"
   ]
  },
  {
   "cell_type": "code",
   "execution_count": 1167,
   "metadata": {
    "collapsed": false
   },
   "outputs": [
    {
     "name": "stdout",
     "output_type": "stream",
     "text": [
      "[[2236  469]\n",
      " [ 494 3614]]\n"
     ]
    }
   ],
   "source": [
    "# Confusion Matrix\n",
    "from sklearn.metrics import confusion_matrix\n",
    "confusion_matrix = confusion_matrix(y_test, y_pred_NN)\n",
    "print(confusion_matrix)"
   ]
  },
  {
   "cell_type": "markdown",
   "metadata": {},
   "source": [
    "### Conclusion"
   ]
  },
  {
   "cell_type": "raw",
   "metadata": {},
   "source": [
    "• Our models classifies with fairly decent accuracy whether the preferred position of the player will be Attack or Defense based on different attributes like 'Aggression', 'Crossing', 'Curve', 'Dribbling' and many other attributes.\n",
    "\n",
    "• From this model's results, the team can discover insights about the game style of each of the players which can prove to be very useful for the players to improve their game, the manager of the football team to make strategic decisions and also the opponents to make tactical decisions based on the opponent players' weakness. \n",
    "\n",
    "I built three powerful classifiers based on Logistic Regression, Random forest and Neural network. Of all the three models, Neural network has the best accuracy (0.86) however, Logistic Regression also has almost the same accuracy (0.85). \n",
    "\n",
    "Although Neural network has the best accuracy, I would still prefer Logistic regression model to predict the preferred position of the player based on the attributes for the below reasons:\n",
    "Logistic regression model takes less time compared to the Neural network model. Also Neural network model has the nature of a black box and we cannot explain how the model computes the results, so I would prefer Logistic regression."
   ]
  },
  {
   "cell_type": "markdown",
   "metadata": {},
   "source": [
    "### Future Scope of the project"
   ]
  },
  {
   "cell_type": "raw",
   "metadata": {},
   "source": [
    "I would extend this project by predicting the specific preferred position of the player like 'Striker', 'Right Midfielder', 'Left Wing' etc. This would be a challenging task.\n",
    "Also, our models would perform better with more data. So I would consider using updated dataset 'Fifa 18 More complete player dataset' that is uploaded in Kaggle which also has additional attributes like 'Body Type', 'League', 'International Reputation', 'Skill moves', 'Weak foot' etc. So, with additional attributes, there would be more scope for the analysis."
   ]
  }
 ],
 "metadata": {
  "kernelspec": {
   "display_name": "Python 3",
   "language": "python",
   "name": "python3"
  },
  "language_info": {
   "codemirror_mode": {
    "name": "ipython",
    "version": 3
   },
   "file_extension": ".py",
   "mimetype": "text/x-python",
   "name": "python",
   "nbconvert_exporter": "python",
   "pygments_lexer": "ipython3",
   "version": "3.6.0"
  }
 },
 "nbformat": 4,
 "nbformat_minor": 2
}
